{
 "cells": [
  {
   "cell_type": "markdown",
   "metadata": {},
   "source": [
    "# Detecting Faces"
   ]
  },
  {
   "cell_type": "markdown",
   "metadata": {},
   "source": [
    "## Imports"
   ]
  },
  {
   "cell_type": "code",
   "execution_count": 1,
   "metadata": {},
   "outputs": [],
   "source": [
    "import pandas as pd\n",
    "import time\n",
    "import matplotlib.pyplot as plt"
   ]
  },
  {
   "cell_type": "markdown",
   "metadata": {},
   "source": [
    "## Data Visualisation & Structuring"
   ]
  },
  {
   "cell_type": "code",
   "execution_count": 2,
   "metadata": {},
   "outputs": [],
   "source": [
    "import numpy as np\n",
    "import torch\n",
    "import torchvision\n",
    "import torchvision.transforms as transforms\n",
    "from torch.utils.data.sampler import SubsetRandomSampler\n",
    "from collections import Counter\n",
    "import cv2"
   ]
  },
  {
   "cell_type": "code",
   "execution_count": 3,
   "metadata": {},
   "outputs": [],
   "source": [
    "#from torchsampler import ImbalancedDatasetSampler"
   ]
  },
  {
   "cell_type": "code",
   "execution_count": 3,
   "metadata": {},
   "outputs": [
    {
     "output_type": "stream",
     "name": "stdout",
     "text": [
      "len(train_data) 91720\nlen(test_data) 7628\n"
     ]
    }
   ],
   "source": [
    "# Transfer data to tensor vectors and training/ testing datasets\n",
    "train_dir = './start_deep/train_images'\n",
    "test_dir = './start_deep/test_images'\n",
    "\n",
    "transform = transforms.Compose(\n",
    "    [transforms.Grayscale(), \n",
    "     transforms.ToTensor(), \n",
    "     transforms.Normalize(mean=(0,),std=(1,))])\n",
    "\n",
    "train_data = torchvision.datasets.ImageFolder(train_dir, transform=transform)\n",
    "test_data = torchvision.datasets.ImageFolder(test_dir, transform=transform)\n",
    "\n",
    "valid_size = 0.2\n",
    "batch_size = 32\n",
    "\n",
    "num_train = len(train_data)\n",
    "print(\"len(train_data)\",len(train_data))\n",
    "print (\"len(test_data)\", len(test_data))\n",
    "indices_train = list(range(num_train))\n",
    "np.random.shuffle(indices_train)\n",
    "split_tv = int(np.floor(valid_size * num_train))\n",
    "train_new_idx, valid_idx = indices_train[split_tv:],indices_train[:split_tv]\n",
    "\n",
    "train_sampler = SubsetRandomSampler(train_new_idx)\n",
    "valid_sampler = SubsetRandomSampler(valid_idx)\n",
    "\n",
    "train_loader = torch.utils.data.DataLoader(train_data, batch_size=batch_size, sampler=train_sampler, num_workers=1)\n",
    "valid_loader = torch.utils.data.DataLoader(train_data, batch_size=batch_size, sampler=valid_sampler, num_workers=1)\n",
    "test_loader = torch.utils.data.DataLoader(test_data, batch_size=batch_size, shuffle=True, num_workers=1)\n",
    "classes = ('noface','face')\n",
    "\n",
    "# for epoch in range(1, n_epochs+1):\n",
    "# for data, target in train_loader:\n"
   ]
  },
  {
   "cell_type": "code",
   "execution_count": null,
   "metadata": {},
   "outputs": [],
   "source": []
  },
  {
   "source": [
    "### Looking more in depth at our data"
   ],
   "cell_type": "markdown",
   "metadata": {}
  },
  {
   "cell_type": "code",
   "execution_count": 21,
   "metadata": {},
   "outputs": [],
   "source": [
    "count_train_face = 0\n",
    "count_train_no_face = 0\n",
    "for data, target in train_loader:\n",
    "    s = np.array(target).sum()\n",
    "    count_train_face +=s\n",
    "    count_train_no_face += batch_size - s"
   ]
  },
  {
   "cell_type": "code",
   "execution_count": 15,
   "metadata": {},
   "outputs": [
    {
     "output_type": "display_data",
     "data": {
      "text/plain": "<Figure size 432x288 with 1 Axes>",
      "image/svg+xml": "<?xml version=\"1.0\" encoding=\"utf-8\" standalone=\"no\"?>\n<!DOCTYPE svg PUBLIC \"-//W3C//DTD SVG 1.1//EN\"\n  \"http://www.w3.org/Graphics/SVG/1.1/DTD/svg11.dtd\">\n<!-- Created with matplotlib (https://matplotlib.org/) -->\n<svg height=\"248.518125pt\" version=\"1.1\" viewBox=\"0 0 388.0125 248.518125\" width=\"388.0125pt\" xmlns=\"http://www.w3.org/2000/svg\" xmlns:xlink=\"http://www.w3.org/1999/xlink\">\n <defs>\n  <style type=\"text/css\">\n*{stroke-linecap:butt;stroke-linejoin:round;}\n  </style>\n </defs>\n <g id=\"figure_1\">\n  <g id=\"patch_1\">\n   <path d=\"M 0 248.518125 \nL 388.0125 248.518125 \nL 388.0125 0 \nL 0 0 \nz\n\" style=\"fill:none;\"/>\n  </g>\n  <g id=\"axes_1\">\n   <g id=\"patch_2\">\n    <path d=\"M 46.0125 224.64 \nL 380.8125 224.64 \nL 380.8125 7.2 \nL 46.0125 7.2 \nz\n\" style=\"fill:#ffffff;\"/>\n   </g>\n   <g id=\"patch_3\">\n    <path clip-path=\"url(#p8c0689c05c)\" d=\"M 61.230682 224.64 \nL 196.503409 224.64 \nL 196.503409 138.474182 \nL 61.230682 138.474182 \nz\n\" style=\"fill:#1f77b4;\"/>\n   </g>\n   <g id=\"patch_4\">\n    <path clip-path=\"url(#p8c0689c05c)\" d=\"M 230.321591 224.64 \nL 365.594318 224.64 \nL 365.594318 17.554286 \nL 230.321591 17.554286 \nz\n\" style=\"fill:#1f77b4;\"/>\n   </g>\n   <g id=\"matplotlib.axis_1\">\n    <g id=\"xtick_1\">\n     <g id=\"line2d_1\">\n      <defs>\n       <path d=\"M 0 0 \nL 0 3.5 \n\" id=\"m7846711019\" style=\"stroke:#000000;stroke-width:0.8;\"/>\n      </defs>\n      <g>\n       <use style=\"stroke:#000000;stroke-width:0.8;\" x=\"86.594318\" xlink:href=\"#m7846711019\" y=\"224.64\"/>\n      </g>\n     </g>\n     <g id=\"text_1\">\n      <!-- −0.25 -->\n      <defs>\n       <path d=\"M 10.59375 35.5 \nL 73.1875 35.5 \nL 73.1875 27.203125 \nL 10.59375 27.203125 \nz\n\" id=\"DejaVuSans-8722\"/>\n       <path d=\"M 31.78125 66.40625 \nQ 24.171875 66.40625 20.328125 58.90625 \nQ 16.5 51.421875 16.5 36.375 \nQ 16.5 21.390625 20.328125 13.890625 \nQ 24.171875 6.390625 31.78125 6.390625 \nQ 39.453125 6.390625 43.28125 13.890625 \nQ 47.125 21.390625 47.125 36.375 \nQ 47.125 51.421875 43.28125 58.90625 \nQ 39.453125 66.40625 31.78125 66.40625 \nz\nM 31.78125 74.21875 \nQ 44.046875 74.21875 50.515625 64.515625 \nQ 56.984375 54.828125 56.984375 36.375 \nQ 56.984375 17.96875 50.515625 8.265625 \nQ 44.046875 -1.421875 31.78125 -1.421875 \nQ 19.53125 -1.421875 13.0625 8.265625 \nQ 6.59375 17.96875 6.59375 36.375 \nQ 6.59375 54.828125 13.0625 64.515625 \nQ 19.53125 74.21875 31.78125 74.21875 \nz\n\" id=\"DejaVuSans-48\"/>\n       <path d=\"M 10.6875 12.40625 \nL 21 12.40625 \nL 21 0 \nL 10.6875 0 \nz\n\" id=\"DejaVuSans-46\"/>\n       <path d=\"M 19.1875 8.296875 \nL 53.609375 8.296875 \nL 53.609375 0 \nL 7.328125 0 \nL 7.328125 8.296875 \nQ 12.9375 14.109375 22.625 23.890625 \nQ 32.328125 33.6875 34.8125 36.53125 \nQ 39.546875 41.84375 41.421875 45.53125 \nQ 43.3125 49.21875 43.3125 52.78125 \nQ 43.3125 58.59375 39.234375 62.25 \nQ 35.15625 65.921875 28.609375 65.921875 \nQ 23.96875 65.921875 18.8125 64.3125 \nQ 13.671875 62.703125 7.8125 59.421875 \nL 7.8125 69.390625 \nQ 13.765625 71.78125 18.9375 73 \nQ 24.125 74.21875 28.421875 74.21875 \nQ 39.75 74.21875 46.484375 68.546875 \nQ 53.21875 62.890625 53.21875 53.421875 \nQ 53.21875 48.921875 51.53125 44.890625 \nQ 49.859375 40.875 45.40625 35.40625 \nQ 44.1875 33.984375 37.640625 27.21875 \nQ 31.109375 20.453125 19.1875 8.296875 \nz\n\" id=\"DejaVuSans-50\"/>\n       <path d=\"M 10.796875 72.90625 \nL 49.515625 72.90625 \nL 49.515625 64.59375 \nL 19.828125 64.59375 \nL 19.828125 46.734375 \nQ 21.96875 47.46875 24.109375 47.828125 \nQ 26.265625 48.1875 28.421875 48.1875 \nQ 40.625 48.1875 47.75 41.5 \nQ 54.890625 34.8125 54.890625 23.390625 \nQ 54.890625 11.625 47.5625 5.09375 \nQ 40.234375 -1.421875 26.90625 -1.421875 \nQ 22.3125 -1.421875 17.546875 -0.640625 \nQ 12.796875 0.140625 7.71875 1.703125 \nL 7.71875 11.625 \nQ 12.109375 9.234375 16.796875 8.0625 \nQ 21.484375 6.890625 26.703125 6.890625 \nQ 35.15625 6.890625 40.078125 11.328125 \nQ 45.015625 15.765625 45.015625 23.390625 \nQ 45.015625 31 40.078125 35.4375 \nQ 35.15625 39.890625 26.703125 39.890625 \nQ 22.75 39.890625 18.8125 39.015625 \nQ 14.890625 38.140625 10.796875 36.28125 \nz\n\" id=\"DejaVuSans-53\"/>\n      </defs>\n      <g transform=\"translate(71.271662 239.238437)scale(0.1 -0.1)\">\n       <use xlink:href=\"#DejaVuSans-8722\"/>\n       <use x=\"83.789062\" xlink:href=\"#DejaVuSans-48\"/>\n       <use x=\"147.412109\" xlink:href=\"#DejaVuSans-46\"/>\n       <use x=\"179.199219\" xlink:href=\"#DejaVuSans-50\"/>\n       <use x=\"242.822266\" xlink:href=\"#DejaVuSans-53\"/>\n      </g>\n     </g>\n    </g>\n    <g id=\"xtick_2\">\n     <g id=\"line2d_2\">\n      <g>\n       <use style=\"stroke:#000000;stroke-width:0.8;\" x=\"128.867045\" xlink:href=\"#m7846711019\" y=\"224.64\"/>\n      </g>\n     </g>\n     <g id=\"text_2\">\n      <!-- 0.00 -->\n      <g transform=\"translate(117.734233 239.238437)scale(0.1 -0.1)\">\n       <use xlink:href=\"#DejaVuSans-48\"/>\n       <use x=\"63.623047\" xlink:href=\"#DejaVuSans-46\"/>\n       <use x=\"95.410156\" xlink:href=\"#DejaVuSans-48\"/>\n       <use x=\"159.033203\" xlink:href=\"#DejaVuSans-48\"/>\n      </g>\n     </g>\n    </g>\n    <g id=\"xtick_3\">\n     <g id=\"line2d_3\">\n      <g>\n       <use style=\"stroke:#000000;stroke-width:0.8;\" x=\"171.139773\" xlink:href=\"#m7846711019\" y=\"224.64\"/>\n      </g>\n     </g>\n     <g id=\"text_3\">\n      <!-- 0.25 -->\n      <g transform=\"translate(160.00696 239.238437)scale(0.1 -0.1)\">\n       <use xlink:href=\"#DejaVuSans-48\"/>\n       <use x=\"63.623047\" xlink:href=\"#DejaVuSans-46\"/>\n       <use x=\"95.410156\" xlink:href=\"#DejaVuSans-50\"/>\n       <use x=\"159.033203\" xlink:href=\"#DejaVuSans-53\"/>\n      </g>\n     </g>\n    </g>\n    <g id=\"xtick_4\">\n     <g id=\"line2d_4\">\n      <g>\n       <use style=\"stroke:#000000;stroke-width:0.8;\" x=\"213.4125\" xlink:href=\"#m7846711019\" y=\"224.64\"/>\n      </g>\n     </g>\n     <g id=\"text_4\">\n      <!-- 0.50 -->\n      <g transform=\"translate(202.279688 239.238437)scale(0.1 -0.1)\">\n       <use xlink:href=\"#DejaVuSans-48\"/>\n       <use x=\"63.623047\" xlink:href=\"#DejaVuSans-46\"/>\n       <use x=\"95.410156\" xlink:href=\"#DejaVuSans-53\"/>\n       <use x=\"159.033203\" xlink:href=\"#DejaVuSans-48\"/>\n      </g>\n     </g>\n    </g>\n    <g id=\"xtick_5\">\n     <g id=\"line2d_5\">\n      <g>\n       <use style=\"stroke:#000000;stroke-width:0.8;\" x=\"255.685227\" xlink:href=\"#m7846711019\" y=\"224.64\"/>\n      </g>\n     </g>\n     <g id=\"text_5\">\n      <!-- 0.75 -->\n      <defs>\n       <path d=\"M 8.203125 72.90625 \nL 55.078125 72.90625 \nL 55.078125 68.703125 \nL 28.609375 0 \nL 18.3125 0 \nL 43.21875 64.59375 \nL 8.203125 64.59375 \nz\n\" id=\"DejaVuSans-55\"/>\n      </defs>\n      <g transform=\"translate(244.552415 239.238437)scale(0.1 -0.1)\">\n       <use xlink:href=\"#DejaVuSans-48\"/>\n       <use x=\"63.623047\" xlink:href=\"#DejaVuSans-46\"/>\n       <use x=\"95.410156\" xlink:href=\"#DejaVuSans-55\"/>\n       <use x=\"159.033203\" xlink:href=\"#DejaVuSans-53\"/>\n      </g>\n     </g>\n    </g>\n    <g id=\"xtick_6\">\n     <g id=\"line2d_6\">\n      <g>\n       <use style=\"stroke:#000000;stroke-width:0.8;\" x=\"297.957955\" xlink:href=\"#m7846711019\" y=\"224.64\"/>\n      </g>\n     </g>\n     <g id=\"text_6\">\n      <!-- 1.00 -->\n      <defs>\n       <path d=\"M 12.40625 8.296875 \nL 28.515625 8.296875 \nL 28.515625 63.921875 \nL 10.984375 60.40625 \nL 10.984375 69.390625 \nL 28.421875 72.90625 \nL 38.28125 72.90625 \nL 38.28125 8.296875 \nL 54.390625 8.296875 \nL 54.390625 0 \nL 12.40625 0 \nz\n\" id=\"DejaVuSans-49\"/>\n      </defs>\n      <g transform=\"translate(286.825142 239.238437)scale(0.1 -0.1)\">\n       <use xlink:href=\"#DejaVuSans-49\"/>\n       <use x=\"63.623047\" xlink:href=\"#DejaVuSans-46\"/>\n       <use x=\"95.410156\" xlink:href=\"#DejaVuSans-48\"/>\n       <use x=\"159.033203\" xlink:href=\"#DejaVuSans-48\"/>\n      </g>\n     </g>\n    </g>\n    <g id=\"xtick_7\">\n     <g id=\"line2d_7\">\n      <g>\n       <use style=\"stroke:#000000;stroke-width:0.8;\" x=\"340.230682\" xlink:href=\"#m7846711019\" y=\"224.64\"/>\n      </g>\n     </g>\n     <g id=\"text_7\">\n      <!-- 1.25 -->\n      <g transform=\"translate(329.097869 239.238437)scale(0.1 -0.1)\">\n       <use xlink:href=\"#DejaVuSans-49\"/>\n       <use x=\"63.623047\" xlink:href=\"#DejaVuSans-46\"/>\n       <use x=\"95.410156\" xlink:href=\"#DejaVuSans-50\"/>\n       <use x=\"159.033203\" xlink:href=\"#DejaVuSans-53\"/>\n      </g>\n     </g>\n    </g>\n   </g>\n   <g id=\"matplotlib.axis_2\">\n    <g id=\"ytick_1\">\n     <g id=\"line2d_8\">\n      <defs>\n       <path d=\"M 0 0 \nL -3.5 0 \n\" id=\"m680b80b23b\" style=\"stroke:#000000;stroke-width:0.8;\"/>\n      </defs>\n      <g>\n       <use style=\"stroke:#000000;stroke-width:0.8;\" x=\"46.0125\" xlink:href=\"#m680b80b23b\" y=\"224.64\"/>\n      </g>\n     </g>\n     <g id=\"text_8\">\n      <!-- 0 -->\n      <g transform=\"translate(32.65 228.439219)scale(0.1 -0.1)\">\n       <use xlink:href=\"#DejaVuSans-48\"/>\n      </g>\n     </g>\n    </g>\n    <g id=\"ytick_2\">\n     <g id=\"line2d_9\">\n      <g>\n       <use style=\"stroke:#000000;stroke-width:0.8;\" x=\"46.0125\" xlink:href=\"#m680b80b23b\" y=\"192.667526\"/>\n      </g>\n     </g>\n     <g id=\"text_9\">\n      <!-- 10000 -->\n      <g transform=\"translate(7.2 196.466745)scale(0.1 -0.1)\">\n       <use xlink:href=\"#DejaVuSans-49\"/>\n       <use x=\"63.623047\" xlink:href=\"#DejaVuSans-48\"/>\n       <use x=\"127.246094\" xlink:href=\"#DejaVuSans-48\"/>\n       <use x=\"190.869141\" xlink:href=\"#DejaVuSans-48\"/>\n       <use x=\"254.492188\" xlink:href=\"#DejaVuSans-48\"/>\n      </g>\n     </g>\n    </g>\n    <g id=\"ytick_3\">\n     <g id=\"line2d_10\">\n      <g>\n       <use style=\"stroke:#000000;stroke-width:0.8;\" x=\"46.0125\" xlink:href=\"#m680b80b23b\" y=\"160.695052\"/>\n      </g>\n     </g>\n     <g id=\"text_10\">\n      <!-- 20000 -->\n      <g transform=\"translate(7.2 164.494271)scale(0.1 -0.1)\">\n       <use xlink:href=\"#DejaVuSans-50\"/>\n       <use x=\"63.623047\" xlink:href=\"#DejaVuSans-48\"/>\n       <use x=\"127.246094\" xlink:href=\"#DejaVuSans-48\"/>\n       <use x=\"190.869141\" xlink:href=\"#DejaVuSans-48\"/>\n       <use x=\"254.492188\" xlink:href=\"#DejaVuSans-48\"/>\n      </g>\n     </g>\n    </g>\n    <g id=\"ytick_4\">\n     <g id=\"line2d_11\">\n      <g>\n       <use style=\"stroke:#000000;stroke-width:0.8;\" x=\"46.0125\" xlink:href=\"#m680b80b23b\" y=\"128.722578\"/>\n      </g>\n     </g>\n     <g id=\"text_11\">\n      <!-- 30000 -->\n      <defs>\n       <path d=\"M 40.578125 39.3125 \nQ 47.65625 37.796875 51.625 33 \nQ 55.609375 28.21875 55.609375 21.1875 \nQ 55.609375 10.40625 48.1875 4.484375 \nQ 40.765625 -1.421875 27.09375 -1.421875 \nQ 22.515625 -1.421875 17.65625 -0.515625 \nQ 12.796875 0.390625 7.625 2.203125 \nL 7.625 11.71875 \nQ 11.71875 9.328125 16.59375 8.109375 \nQ 21.484375 6.890625 26.8125 6.890625 \nQ 36.078125 6.890625 40.9375 10.546875 \nQ 45.796875 14.203125 45.796875 21.1875 \nQ 45.796875 27.640625 41.28125 31.265625 \nQ 36.765625 34.90625 28.71875 34.90625 \nL 20.21875 34.90625 \nL 20.21875 43.015625 \nL 29.109375 43.015625 \nQ 36.375 43.015625 40.234375 45.921875 \nQ 44.09375 48.828125 44.09375 54.296875 \nQ 44.09375 59.90625 40.109375 62.90625 \nQ 36.140625 65.921875 28.71875 65.921875 \nQ 24.65625 65.921875 20.015625 65.03125 \nQ 15.375 64.15625 9.8125 62.3125 \nL 9.8125 71.09375 \nQ 15.4375 72.65625 20.34375 73.4375 \nQ 25.25 74.21875 29.59375 74.21875 \nQ 40.828125 74.21875 47.359375 69.109375 \nQ 53.90625 64.015625 53.90625 55.328125 \nQ 53.90625 49.265625 50.4375 45.09375 \nQ 46.96875 40.921875 40.578125 39.3125 \nz\n\" id=\"DejaVuSans-51\"/>\n      </defs>\n      <g transform=\"translate(7.2 132.521797)scale(0.1 -0.1)\">\n       <use xlink:href=\"#DejaVuSans-51\"/>\n       <use x=\"63.623047\" xlink:href=\"#DejaVuSans-48\"/>\n       <use x=\"127.246094\" xlink:href=\"#DejaVuSans-48\"/>\n       <use x=\"190.869141\" xlink:href=\"#DejaVuSans-48\"/>\n       <use x=\"254.492188\" xlink:href=\"#DejaVuSans-48\"/>\n      </g>\n     </g>\n    </g>\n    <g id=\"ytick_5\">\n     <g id=\"line2d_12\">\n      <g>\n       <use style=\"stroke:#000000;stroke-width:0.8;\" x=\"46.0125\" xlink:href=\"#m680b80b23b\" y=\"96.750104\"/>\n      </g>\n     </g>\n     <g id=\"text_12\">\n      <!-- 40000 -->\n      <defs>\n       <path d=\"M 37.796875 64.3125 \nL 12.890625 25.390625 \nL 37.796875 25.390625 \nz\nM 35.203125 72.90625 \nL 47.609375 72.90625 \nL 47.609375 25.390625 \nL 58.015625 25.390625 \nL 58.015625 17.1875 \nL 47.609375 17.1875 \nL 47.609375 0 \nL 37.796875 0 \nL 37.796875 17.1875 \nL 4.890625 17.1875 \nL 4.890625 26.703125 \nz\n\" id=\"DejaVuSans-52\"/>\n      </defs>\n      <g transform=\"translate(7.2 100.549323)scale(0.1 -0.1)\">\n       <use xlink:href=\"#DejaVuSans-52\"/>\n       <use x=\"63.623047\" xlink:href=\"#DejaVuSans-48\"/>\n       <use x=\"127.246094\" xlink:href=\"#DejaVuSans-48\"/>\n       <use x=\"190.869141\" xlink:href=\"#DejaVuSans-48\"/>\n       <use x=\"254.492188\" xlink:href=\"#DejaVuSans-48\"/>\n      </g>\n     </g>\n    </g>\n    <g id=\"ytick_6\">\n     <g id=\"line2d_13\">\n      <g>\n       <use style=\"stroke:#000000;stroke-width:0.8;\" x=\"46.0125\" xlink:href=\"#m680b80b23b\" y=\"64.77763\"/>\n      </g>\n     </g>\n     <g id=\"text_13\">\n      <!-- 50000 -->\n      <g transform=\"translate(7.2 68.576849)scale(0.1 -0.1)\">\n       <use xlink:href=\"#DejaVuSans-53\"/>\n       <use x=\"63.623047\" xlink:href=\"#DejaVuSans-48\"/>\n       <use x=\"127.246094\" xlink:href=\"#DejaVuSans-48\"/>\n       <use x=\"190.869141\" xlink:href=\"#DejaVuSans-48\"/>\n       <use x=\"254.492188\" xlink:href=\"#DejaVuSans-48\"/>\n      </g>\n     </g>\n    </g>\n    <g id=\"ytick_7\">\n     <g id=\"line2d_14\">\n      <g>\n       <use style=\"stroke:#000000;stroke-width:0.8;\" x=\"46.0125\" xlink:href=\"#m680b80b23b\" y=\"32.805156\"/>\n      </g>\n     </g>\n     <g id=\"text_14\">\n      <!-- 60000 -->\n      <defs>\n       <path d=\"M 33.015625 40.375 \nQ 26.375 40.375 22.484375 35.828125 \nQ 18.609375 31.296875 18.609375 23.390625 \nQ 18.609375 15.53125 22.484375 10.953125 \nQ 26.375 6.390625 33.015625 6.390625 \nQ 39.65625 6.390625 43.53125 10.953125 \nQ 47.40625 15.53125 47.40625 23.390625 \nQ 47.40625 31.296875 43.53125 35.828125 \nQ 39.65625 40.375 33.015625 40.375 \nz\nM 52.59375 71.296875 \nL 52.59375 62.3125 \nQ 48.875 64.0625 45.09375 64.984375 \nQ 41.3125 65.921875 37.59375 65.921875 \nQ 27.828125 65.921875 22.671875 59.328125 \nQ 17.53125 52.734375 16.796875 39.40625 \nQ 19.671875 43.65625 24.015625 45.921875 \nQ 28.375 48.1875 33.59375 48.1875 \nQ 44.578125 48.1875 50.953125 41.515625 \nQ 57.328125 34.859375 57.328125 23.390625 \nQ 57.328125 12.15625 50.6875 5.359375 \nQ 44.046875 -1.421875 33.015625 -1.421875 \nQ 20.359375 -1.421875 13.671875 8.265625 \nQ 6.984375 17.96875 6.984375 36.375 \nQ 6.984375 53.65625 15.1875 63.9375 \nQ 23.390625 74.21875 37.203125 74.21875 \nQ 40.921875 74.21875 44.703125 73.484375 \nQ 48.484375 72.75 52.59375 71.296875 \nz\n\" id=\"DejaVuSans-54\"/>\n      </defs>\n      <g transform=\"translate(7.2 36.604375)scale(0.1 -0.1)\">\n       <use xlink:href=\"#DejaVuSans-54\"/>\n       <use x=\"63.623047\" xlink:href=\"#DejaVuSans-48\"/>\n       <use x=\"127.246094\" xlink:href=\"#DejaVuSans-48\"/>\n       <use x=\"190.869141\" xlink:href=\"#DejaVuSans-48\"/>\n       <use x=\"254.492188\" xlink:href=\"#DejaVuSans-48\"/>\n      </g>\n     </g>\n    </g>\n   </g>\n   <g id=\"patch_5\">\n    <path d=\"M 46.0125 224.64 \nL 46.0125 7.2 \n\" style=\"fill:none;stroke:#000000;stroke-linecap:square;stroke-linejoin:miter;stroke-width:0.8;\"/>\n   </g>\n   <g id=\"patch_6\">\n    <path d=\"M 380.8125 224.64 \nL 380.8125 7.2 \n\" style=\"fill:none;stroke:#000000;stroke-linecap:square;stroke-linejoin:miter;stroke-width:0.8;\"/>\n   </g>\n   <g id=\"patch_7\">\n    <path d=\"M 46.0125 224.64 \nL 380.8125 224.64 \n\" style=\"fill:none;stroke:#000000;stroke-linecap:square;stroke-linejoin:miter;stroke-width:0.8;\"/>\n   </g>\n   <g id=\"patch_8\">\n    <path d=\"M 46.0125 7.2 \nL 380.8125 7.2 \n\" style=\"fill:none;stroke:#000000;stroke-linecap:square;stroke-linejoin:miter;stroke-width:0.8;\"/>\n   </g>\n  </g>\n </g>\n <defs>\n  <clipPath id=\"p8c0689c05c\">\n   <rect height=\"217.44\" width=\"334.8\" x=\"46.0125\" y=\"7.2\"/>\n  </clipPath>\n </defs>\n</svg>\n",
      "image/png": "[encoded data removed]"
     },
     "metadata": {
      "needs_background": "light"
     }
    }
   ],
   "source": [
    "plt.bar(*zip(*dict(Counter(train_data.targets)).items()))\n",
    "plt.show()"
   ]
  },
  {
   "cell_type": "code",
   "execution_count": 22,
   "metadata": {},
   "outputs": [
    {
     "output_type": "stream",
     "name": "stdout",
     "text": [
      "21653 51723\n"
     ]
    }
   ],
   "source": [
    "print(count_train_no_face, count_train_face)"
   ]
  },
  {
   "cell_type": "code",
   "execution_count": 18,
   "metadata": {},
   "outputs": [],
   "source": [
    "count_test_face = 0\n",
    "count_test_no_face = 0\n",
    "for data, target in test_loader:\n",
    "    s = np.array(target).sum()\n",
    "    count_test_face +=s\n",
    "    count_test_no_face += batch_size - s"
   ]
  },
  {
   "cell_type": "code",
   "execution_count": 16,
   "metadata": {},
   "outputs": [
    {
     "output_type": "display_data",
     "data": {
      "text/plain": "<Figure size 432x288 with 1 Axes>",
      "image/svg+xml": "<?xml version=\"1.0\" encoding=\"utf-8\" standalone=\"no\"?>\n<!DOCTYPE svg PUBLIC \"-//W3C//DTD SVG 1.1//EN\"\n  \"http://www.w3.org/Graphics/SVG/1.1/DTD/svg11.dtd\">\n<!-- Created with matplotlib (https://matplotlib.org/) -->\n<svg height=\"248.518125pt\" version=\"1.1\" viewBox=\"0 0 381.65 248.518125\" width=\"381.65pt\" xmlns=\"http://www.w3.org/2000/svg\" xmlns:xlink=\"http://www.w3.org/1999/xlink\">\n <defs>\n  <style type=\"text/css\">\n*{stroke-linecap:butt;stroke-linejoin:round;}\n  </style>\n </defs>\n <g id=\"figure_1\">\n  <g id=\"patch_1\">\n   <path d=\"M -0 248.518125 \nL 381.65 248.518125 \nL 381.65 0 \nL -0 0 \nz\n\" style=\"fill:none;\"/>\n  </g>\n  <g id=\"axes_1\">\n   <g id=\"patch_2\">\n    <path d=\"M 39.65 224.64 \nL 374.45 224.64 \nL 374.45 7.2 \nL 39.65 7.2 \nz\n\" style=\"fill:#ffffff;\"/>\n   </g>\n   <g id=\"patch_3\">\n    <path clip-path=\"url(#pbca4f43db2)\" d=\"M 54.868182 224.64 \nL 190.140909 224.64 \nL 190.140909 17.554286 \nL 54.868182 17.554286 \nz\n\" style=\"fill:#1f77b4;\"/>\n   </g>\n   <g id=\"patch_4\">\n    <path clip-path=\"url(#pbca4f43db2)\" d=\"M 223.959091 224.64 \nL 359.231818 224.64 \nL 359.231818 200.478484 \nL 223.959091 200.478484 \nz\n\" style=\"fill:#1f77b4;\"/>\n   </g>\n   <g id=\"matplotlib.axis_1\">\n    <g id=\"xtick_1\">\n     <g id=\"line2d_1\">\n      <defs>\n       <path d=\"M 0 0 \nL 0 3.5 \n\" id=\"mad6f9684da\" style=\"stroke:#000000;stroke-width:0.8;\"/>\n      </defs>\n      <g>\n       <use style=\"stroke:#000000;stroke-width:0.8;\" x=\"80.231818\" xlink:href=\"#mad6f9684da\" y=\"224.64\"/>\n      </g>\n     </g>\n     <g id=\"text_1\">\n      <!-- −0.25 -->\n      <defs>\n       <path d=\"M 10.59375 35.5 \nL 73.1875 35.5 \nL 73.1875 27.203125 \nL 10.59375 27.203125 \nz\n\" id=\"DejaVuSans-8722\"/>\n       <path d=\"M 31.78125 66.40625 \nQ 24.171875 66.40625 20.328125 58.90625 \nQ 16.5 51.421875 16.5 36.375 \nQ 16.5 21.390625 20.328125 13.890625 \nQ 24.171875 6.390625 31.78125 6.390625 \nQ 39.453125 6.390625 43.28125 13.890625 \nQ 47.125 21.390625 47.125 36.375 \nQ 47.125 51.421875 43.28125 58.90625 \nQ 39.453125 66.40625 31.78125 66.40625 \nz\nM 31.78125 74.21875 \nQ 44.046875 74.21875 50.515625 64.515625 \nQ 56.984375 54.828125 56.984375 36.375 \nQ 56.984375 17.96875 50.515625 8.265625 \nQ 44.046875 -1.421875 31.78125 -1.421875 \nQ 19.53125 -1.421875 13.0625 8.265625 \nQ 6.59375 17.96875 6.59375 36.375 \nQ 6.59375 54.828125 13.0625 64.515625 \nQ 19.53125 74.21875 31.78125 74.21875 \nz\n\" id=\"DejaVuSans-48\"/>\n       <path d=\"M 10.6875 12.40625 \nL 21 12.40625 \nL 21 0 \nL 10.6875 0 \nz\n\" id=\"DejaVuSans-46\"/>\n       <path d=\"M 19.1875 8.296875 \nL 53.609375 8.296875 \nL 53.609375 0 \nL 7.328125 0 \nL 7.328125 8.296875 \nQ 12.9375 14.109375 22.625 23.890625 \nQ 32.328125 33.6875 34.8125 36.53125 \nQ 39.546875 41.84375 41.421875 45.53125 \nQ 43.3125 49.21875 43.3125 52.78125 \nQ 43.3125 58.59375 39.234375 62.25 \nQ 35.15625 65.921875 28.609375 65.921875 \nQ 23.96875 65.921875 18.8125 64.3125 \nQ 13.671875 62.703125 7.8125 59.421875 \nL 7.8125 69.390625 \nQ 13.765625 71.78125 18.9375 73 \nQ 24.125 74.21875 28.421875 74.21875 \nQ 39.75 74.21875 46.484375 68.546875 \nQ 53.21875 62.890625 53.21875 53.421875 \nQ 53.21875 48.921875 51.53125 44.890625 \nQ 49.859375 40.875 45.40625 35.40625 \nQ 44.1875 33.984375 37.640625 27.21875 \nQ 31.109375 20.453125 19.1875 8.296875 \nz\n\" id=\"DejaVuSans-50\"/>\n       <path d=\"M 10.796875 72.90625 \nL 49.515625 72.90625 \nL 49.515625 64.59375 \nL 19.828125 64.59375 \nL 19.828125 46.734375 \nQ 21.96875 47.46875 24.109375 47.828125 \nQ 26.265625 48.1875 28.421875 48.1875 \nQ 40.625 48.1875 47.75 41.5 \nQ 54.890625 34.8125 54.890625 23.390625 \nQ 54.890625 11.625 47.5625 5.09375 \nQ 40.234375 -1.421875 26.90625 -1.421875 \nQ 22.3125 -1.421875 17.546875 -0.640625 \nQ 12.796875 0.140625 7.71875 1.703125 \nL 7.71875 11.625 \nQ 12.109375 9.234375 16.796875 8.0625 \nQ 21.484375 6.890625 26.703125 6.890625 \nQ 35.15625 6.890625 40.078125 11.328125 \nQ 45.015625 15.765625 45.015625 23.390625 \nQ 45.015625 31 40.078125 35.4375 \nQ 35.15625 39.890625 26.703125 39.890625 \nQ 22.75 39.890625 18.8125 39.015625 \nQ 14.890625 38.140625 10.796875 36.28125 \nz\n\" id=\"DejaVuSans-53\"/>\n      </defs>\n      <g transform=\"translate(64.909162 239.238437)scale(0.1 -0.1)\">\n       <use xlink:href=\"#DejaVuSans-8722\"/>\n       <use x=\"83.789062\" xlink:href=\"#DejaVuSans-48\"/>\n       <use x=\"147.412109\" xlink:href=\"#DejaVuSans-46\"/>\n       <use x=\"179.199219\" xlink:href=\"#DejaVuSans-50\"/>\n       <use x=\"242.822266\" xlink:href=\"#DejaVuSans-53\"/>\n      </g>\n     </g>\n    </g>\n    <g id=\"xtick_2\">\n     <g id=\"line2d_2\">\n      <g>\n       <use style=\"stroke:#000000;stroke-width:0.8;\" x=\"122.504545\" xlink:href=\"#mad6f9684da\" y=\"224.64\"/>\n      </g>\n     </g>\n     <g id=\"text_2\">\n      <!-- 0.00 -->\n      <g transform=\"translate(111.371733 239.238437)scale(0.1 -0.1)\">\n       <use xlink:href=\"#DejaVuSans-48\"/>\n       <use x=\"63.623047\" xlink:href=\"#DejaVuSans-46\"/>\n       <use x=\"95.410156\" xlink:href=\"#DejaVuSans-48\"/>\n       <use x=\"159.033203\" xlink:href=\"#DejaVuSans-48\"/>\n      </g>\n     </g>\n    </g>\n    <g id=\"xtick_3\">\n     <g id=\"line2d_3\">\n      <g>\n       <use style=\"stroke:#000000;stroke-width:0.8;\" x=\"164.777273\" xlink:href=\"#mad6f9684da\" y=\"224.64\"/>\n      </g>\n     </g>\n     <g id=\"text_3\">\n      <!-- 0.25 -->\n      <g transform=\"translate(153.64446 239.238437)scale(0.1 -0.1)\">\n       <use xlink:href=\"#DejaVuSans-48\"/>\n       <use x=\"63.623047\" xlink:href=\"#DejaVuSans-46\"/>\n       <use x=\"95.410156\" xlink:href=\"#DejaVuSans-50\"/>\n       <use x=\"159.033203\" xlink:href=\"#DejaVuSans-53\"/>\n      </g>\n     </g>\n    </g>\n    <g id=\"xtick_4\">\n     <g id=\"line2d_4\">\n      <g>\n       <use style=\"stroke:#000000;stroke-width:0.8;\" x=\"207.05\" xlink:href=\"#mad6f9684da\" y=\"224.64\"/>\n      </g>\n     </g>\n     <g id=\"text_4\">\n      <!-- 0.50 -->\n      <g transform=\"translate(195.917188 239.238437)scale(0.1 -0.1)\">\n       <use xlink:href=\"#DejaVuSans-48\"/>\n       <use x=\"63.623047\" xlink:href=\"#DejaVuSans-46\"/>\n       <use x=\"95.410156\" xlink:href=\"#DejaVuSans-53\"/>\n       <use x=\"159.033203\" xlink:href=\"#DejaVuSans-48\"/>\n      </g>\n     </g>\n    </g>\n    <g id=\"xtick_5\">\n     <g id=\"line2d_5\">\n      <g>\n       <use style=\"stroke:#000000;stroke-width:0.8;\" x=\"249.322727\" xlink:href=\"#mad6f9684da\" y=\"224.64\"/>\n      </g>\n     </g>\n     <g id=\"text_5\">\n      <!-- 0.75 -->\n      <defs>\n       <path d=\"M 8.203125 72.90625 \nL 55.078125 72.90625 \nL 55.078125 68.703125 \nL 28.609375 0 \nL 18.3125 0 \nL 43.21875 64.59375 \nL 8.203125 64.59375 \nz\n\" id=\"DejaVuSans-55\"/>\n      </defs>\n      <g transform=\"translate(238.189915 239.238437)scale(0.1 -0.1)\">\n       <use xlink:href=\"#DejaVuSans-48\"/>\n       <use x=\"63.623047\" xlink:href=\"#DejaVuSans-46\"/>\n       <use x=\"95.410156\" xlink:href=\"#DejaVuSans-55\"/>\n       <use x=\"159.033203\" xlink:href=\"#DejaVuSans-53\"/>\n      </g>\n     </g>\n    </g>\n    <g id=\"xtick_6\">\n     <g id=\"line2d_6\">\n      <g>\n       <use style=\"stroke:#000000;stroke-width:0.8;\" x=\"291.595455\" xlink:href=\"#mad6f9684da\" y=\"224.64\"/>\n      </g>\n     </g>\n     <g id=\"text_6\">\n      <!-- 1.00 -->\n      <defs>\n       <path d=\"M 12.40625 8.296875 \nL 28.515625 8.296875 \nL 28.515625 63.921875 \nL 10.984375 60.40625 \nL 10.984375 69.390625 \nL 28.421875 72.90625 \nL 38.28125 72.90625 \nL 38.28125 8.296875 \nL 54.390625 8.296875 \nL 54.390625 0 \nL 12.40625 0 \nz\n\" id=\"DejaVuSans-49\"/>\n      </defs>\n      <g transform=\"translate(280.462642 239.238437)scale(0.1 -0.1)\">\n       <use xlink:href=\"#DejaVuSans-49\"/>\n       <use x=\"63.623047\" xlink:href=\"#DejaVuSans-46\"/>\n       <use x=\"95.410156\" xlink:href=\"#DejaVuSans-48\"/>\n       <use x=\"159.033203\" xlink:href=\"#DejaVuSans-48\"/>\n      </g>\n     </g>\n    </g>\n    <g id=\"xtick_7\">\n     <g id=\"line2d_7\">\n      <g>\n       <use style=\"stroke:#000000;stroke-width:0.8;\" x=\"333.868182\" xlink:href=\"#mad6f9684da\" y=\"224.64\"/>\n      </g>\n     </g>\n     <g id=\"text_7\">\n      <!-- 1.25 -->\n      <g transform=\"translate(322.735369 239.238437)scale(0.1 -0.1)\">\n       <use xlink:href=\"#DejaVuSans-49\"/>\n       <use x=\"63.623047\" xlink:href=\"#DejaVuSans-46\"/>\n       <use x=\"95.410156\" xlink:href=\"#DejaVuSans-50\"/>\n       <use x=\"159.033203\" xlink:href=\"#DejaVuSans-53\"/>\n      </g>\n     </g>\n    </g>\n   </g>\n   <g id=\"matplotlib.axis_2\">\n    <g id=\"ytick_1\">\n     <g id=\"line2d_8\">\n      <defs>\n       <path d=\"M 0 0 \nL -3.5 0 \n\" id=\"m683d07eb7a\" style=\"stroke:#000000;stroke-width:0.8;\"/>\n      </defs>\n      <g>\n       <use style=\"stroke:#000000;stroke-width:0.8;\" x=\"39.65\" xlink:href=\"#m683d07eb7a\" y=\"224.64\"/>\n      </g>\n     </g>\n     <g id=\"text_8\">\n      <!-- 0 -->\n      <g transform=\"translate(26.2875 228.439219)scale(0.1 -0.1)\">\n       <use xlink:href=\"#DejaVuSans-48\"/>\n      </g>\n     </g>\n    </g>\n    <g id=\"ytick_2\">\n     <g id=\"line2d_9\">\n      <g>\n       <use style=\"stroke:#000000;stroke-width:0.8;\" x=\"39.65\" xlink:href=\"#m683d07eb7a\" y=\"194.324422\"/>\n      </g>\n     </g>\n     <g id=\"text_9\">\n      <!-- 1000 -->\n      <g transform=\"translate(7.2 198.123641)scale(0.1 -0.1)\">\n       <use xlink:href=\"#DejaVuSans-49\"/>\n       <use x=\"63.623047\" xlink:href=\"#DejaVuSans-48\"/>\n       <use x=\"127.246094\" xlink:href=\"#DejaVuSans-48\"/>\n       <use x=\"190.869141\" xlink:href=\"#DejaVuSans-48\"/>\n      </g>\n     </g>\n    </g>\n    <g id=\"ytick_3\">\n     <g id=\"line2d_10\">\n      <g>\n       <use style=\"stroke:#000000;stroke-width:0.8;\" x=\"39.65\" xlink:href=\"#m683d07eb7a\" y=\"164.008844\"/>\n      </g>\n     </g>\n     <g id=\"text_10\">\n      <!-- 2000 -->\n      <g transform=\"translate(7.2 167.808062)scale(0.1 -0.1)\">\n       <use xlink:href=\"#DejaVuSans-50\"/>\n       <use x=\"63.623047\" xlink:href=\"#DejaVuSans-48\"/>\n       <use x=\"127.246094\" xlink:href=\"#DejaVuSans-48\"/>\n       <use x=\"190.869141\" xlink:href=\"#DejaVuSans-48\"/>\n      </g>\n     </g>\n    </g>\n    <g id=\"ytick_4\">\n     <g id=\"line2d_11\">\n      <g>\n       <use style=\"stroke:#000000;stroke-width:0.8;\" x=\"39.65\" xlink:href=\"#m683d07eb7a\" y=\"133.693266\"/>\n      </g>\n     </g>\n     <g id=\"text_11\">\n      <!-- 3000 -->\n      <defs>\n       <path d=\"M 40.578125 39.3125 \nQ 47.65625 37.796875 51.625 33 \nQ 55.609375 28.21875 55.609375 21.1875 \nQ 55.609375 10.40625 48.1875 4.484375 \nQ 40.765625 -1.421875 27.09375 -1.421875 \nQ 22.515625 -1.421875 17.65625 -0.515625 \nQ 12.796875 0.390625 7.625 2.203125 \nL 7.625 11.71875 \nQ 11.71875 9.328125 16.59375 8.109375 \nQ 21.484375 6.890625 26.8125 6.890625 \nQ 36.078125 6.890625 40.9375 10.546875 \nQ 45.796875 14.203125 45.796875 21.1875 \nQ 45.796875 27.640625 41.28125 31.265625 \nQ 36.765625 34.90625 28.71875 34.90625 \nL 20.21875 34.90625 \nL 20.21875 43.015625 \nL 29.109375 43.015625 \nQ 36.375 43.015625 40.234375 45.921875 \nQ 44.09375 48.828125 44.09375 54.296875 \nQ 44.09375 59.90625 40.109375 62.90625 \nQ 36.140625 65.921875 28.71875 65.921875 \nQ 24.65625 65.921875 20.015625 65.03125 \nQ 15.375 64.15625 9.8125 62.3125 \nL 9.8125 71.09375 \nQ 15.4375 72.65625 20.34375 73.4375 \nQ 25.25 74.21875 29.59375 74.21875 \nQ 40.828125 74.21875 47.359375 69.109375 \nQ 53.90625 64.015625 53.90625 55.328125 \nQ 53.90625 49.265625 50.4375 45.09375 \nQ 46.96875 40.921875 40.578125 39.3125 \nz\n\" id=\"DejaVuSans-51\"/>\n      </defs>\n      <g transform=\"translate(7.2 137.492484)scale(0.1 -0.1)\">\n       <use xlink:href=\"#DejaVuSans-51\"/>\n       <use x=\"63.623047\" xlink:href=\"#DejaVuSans-48\"/>\n       <use x=\"127.246094\" xlink:href=\"#DejaVuSans-48\"/>\n       <use x=\"190.869141\" xlink:href=\"#DejaVuSans-48\"/>\n      </g>\n     </g>\n    </g>\n    <g id=\"ytick_5\">\n     <g id=\"line2d_12\">\n      <g>\n       <use style=\"stroke:#000000;stroke-width:0.8;\" x=\"39.65\" xlink:href=\"#m683d07eb7a\" y=\"103.377687\"/>\n      </g>\n     </g>\n     <g id=\"text_12\">\n      <!-- 4000 -->\n      <defs>\n       <path d=\"M 37.796875 64.3125 \nL 12.890625 25.390625 \nL 37.796875 25.390625 \nz\nM 35.203125 72.90625 \nL 47.609375 72.90625 \nL 47.609375 25.390625 \nL 58.015625 25.390625 \nL 58.015625 17.1875 \nL 47.609375 17.1875 \nL 47.609375 0 \nL 37.796875 0 \nL 37.796875 17.1875 \nL 4.890625 17.1875 \nL 4.890625 26.703125 \nz\n\" id=\"DejaVuSans-52\"/>\n      </defs>\n      <g transform=\"translate(7.2 107.176906)scale(0.1 -0.1)\">\n       <use xlink:href=\"#DejaVuSans-52\"/>\n       <use x=\"63.623047\" xlink:href=\"#DejaVuSans-48\"/>\n       <use x=\"127.246094\" xlink:href=\"#DejaVuSans-48\"/>\n       <use x=\"190.869141\" xlink:href=\"#DejaVuSans-48\"/>\n      </g>\n     </g>\n    </g>\n    <g id=\"ytick_6\">\n     <g id=\"line2d_13\">\n      <g>\n       <use style=\"stroke:#000000;stroke-width:0.8;\" x=\"39.65\" xlink:href=\"#m683d07eb7a\" y=\"73.062109\"/>\n      </g>\n     </g>\n     <g id=\"text_13\">\n      <!-- 5000 -->\n      <g transform=\"translate(7.2 76.861328)scale(0.1 -0.1)\">\n       <use xlink:href=\"#DejaVuSans-53\"/>\n       <use x=\"63.623047\" xlink:href=\"#DejaVuSans-48\"/>\n       <use x=\"127.246094\" xlink:href=\"#DejaVuSans-48\"/>\n       <use x=\"190.869141\" xlink:href=\"#DejaVuSans-48\"/>\n      </g>\n     </g>\n    </g>\n    <g id=\"ytick_7\">\n     <g id=\"line2d_14\">\n      <g>\n       <use style=\"stroke:#000000;stroke-width:0.8;\" x=\"39.65\" xlink:href=\"#m683d07eb7a\" y=\"42.746531\"/>\n      </g>\n     </g>\n     <g id=\"text_14\">\n      <!-- 6000 -->\n      <defs>\n       <path d=\"M 33.015625 40.375 \nQ 26.375 40.375 22.484375 35.828125 \nQ 18.609375 31.296875 18.609375 23.390625 \nQ 18.609375 15.53125 22.484375 10.953125 \nQ 26.375 6.390625 33.015625 6.390625 \nQ 39.65625 6.390625 43.53125 10.953125 \nQ 47.40625 15.53125 47.40625 23.390625 \nQ 47.40625 31.296875 43.53125 35.828125 \nQ 39.65625 40.375 33.015625 40.375 \nz\nM 52.59375 71.296875 \nL 52.59375 62.3125 \nQ 48.875 64.0625 45.09375 64.984375 \nQ 41.3125 65.921875 37.59375 65.921875 \nQ 27.828125 65.921875 22.671875 59.328125 \nQ 17.53125 52.734375 16.796875 39.40625 \nQ 19.671875 43.65625 24.015625 45.921875 \nQ 28.375 48.1875 33.59375 48.1875 \nQ 44.578125 48.1875 50.953125 41.515625 \nQ 57.328125 34.859375 57.328125 23.390625 \nQ 57.328125 12.15625 50.6875 5.359375 \nQ 44.046875 -1.421875 33.015625 -1.421875 \nQ 20.359375 -1.421875 13.671875 8.265625 \nQ 6.984375 17.96875 6.984375 36.375 \nQ 6.984375 53.65625 15.1875 63.9375 \nQ 23.390625 74.21875 37.203125 74.21875 \nQ 40.921875 74.21875 44.703125 73.484375 \nQ 48.484375 72.75 52.59375 71.296875 \nz\n\" id=\"DejaVuSans-54\"/>\n      </defs>\n      <g transform=\"translate(7.2 46.54575)scale(0.1 -0.1)\">\n       <use xlink:href=\"#DejaVuSans-54\"/>\n       <use x=\"63.623047\" xlink:href=\"#DejaVuSans-48\"/>\n       <use x=\"127.246094\" xlink:href=\"#DejaVuSans-48\"/>\n       <use x=\"190.869141\" xlink:href=\"#DejaVuSans-48\"/>\n      </g>\n     </g>\n    </g>\n    <g id=\"ytick_8\">\n     <g id=\"line2d_15\">\n      <g>\n       <use style=\"stroke:#000000;stroke-width:0.8;\" x=\"39.65\" xlink:href=\"#m683d07eb7a\" y=\"12.430953\"/>\n      </g>\n     </g>\n     <g id=\"text_15\">\n      <!-- 7000 -->\n      <g transform=\"translate(7.2 16.230172)scale(0.1 -0.1)\">\n       <use xlink:href=\"#DejaVuSans-55\"/>\n       <use x=\"63.623047\" xlink:href=\"#DejaVuSans-48\"/>\n       <use x=\"127.246094\" xlink:href=\"#DejaVuSans-48\"/>\n       <use x=\"190.869141\" xlink:href=\"#DejaVuSans-48\"/>\n      </g>\n     </g>\n    </g>\n   </g>\n   <g id=\"patch_5\">\n    <path d=\"M 39.65 224.64 \nL 39.65 7.2 \n\" style=\"fill:none;stroke:#000000;stroke-linecap:square;stroke-linejoin:miter;stroke-width:0.8;\"/>\n   </g>\n   <g id=\"patch_6\">\n    <path d=\"M 374.45 224.64 \nL 374.45 7.2 \n\" style=\"fill:none;stroke:#000000;stroke-linecap:square;stroke-linejoin:miter;stroke-width:0.8;\"/>\n   </g>\n   <g id=\"patch_7\">\n    <path d=\"M 39.65 224.64 \nL 374.45 224.64 \n\" style=\"fill:none;stroke:#000000;stroke-linecap:square;stroke-linejoin:miter;stroke-width:0.8;\"/>\n   </g>\n   <g id=\"patch_8\">\n    <path d=\"M 39.65 7.2 \nL 374.45 7.2 \n\" style=\"fill:none;stroke:#000000;stroke-linecap:square;stroke-linejoin:miter;stroke-width:0.8;\"/>\n   </g>\n  </g>\n </g>\n <defs>\n  <clipPath id=\"pbca4f43db2\">\n   <rect height=\"217.44\" width=\"334.8\" x=\"39.65\" y=\"7.2\"/>\n  </clipPath>\n </defs>\n</svg>\n",
      "image/png": "[encoded data removed]"
     },
     "metadata": {
      "needs_background": "light"
     }
    }
   ],
   "source": [
    "plt.bar(*zip(*dict(Counter(test_data.targets)).items()))\n",
    "plt.show()"
   ]
  },
  {
   "cell_type": "code",
   "execution_count": 20,
   "metadata": {},
   "outputs": [
    {
     "output_type": "stream",
     "name": "stdout",
     "text": [
      "6851 797\n"
     ]
    }
   ],
   "source": [
    "print(count_test_no_face, count_test_face)"
   ]
  },
  {
   "cell_type": "code",
   "execution_count": 11,
   "metadata": {},
   "outputs": [],
   "source": [
    "count_valid_face = 0\n",
    "count_valid_no_face = 0\n",
    "for data, target in valid_loader:\n",
    "    s = np.array(target).sum()\n",
    "    count_valid_face +=s\n",
    "    count_valid_no_face += batch_size - s"
   ]
  },
  {
   "cell_type": "code",
   "execution_count": 12,
   "metadata": {},
   "outputs": [
    {
     "name": "stdout",
     "output_type": "stream",
     "text": [
      "12907 5461\n"
     ]
    }
   ],
   "source": [
    "print(count_valid_face, count_valid_no_face)"
   ]
  },
  {
   "cell_type": "code",
   "execution_count": 4,
   "metadata": {},
   "outputs": [
    {
     "output_type": "display_data",
     "data": {
      "text/plain": "<Figure size 432x288 with 1 Axes>",
      "image/svg+xml": "<?xml version=\"1.0\" encoding=\"utf-8\" standalone=\"no\"?>\n<!DOCTYPE svg PUBLIC \"-//W3C//DTD SVG 1.1//EN\"\n  \"http://www.w3.org/Graphics/SVG/1.1/DTD/svg11.dtd\">\n<!-- Created with matplotlib (https://matplotlib.org/) -->\n<svg height=\"249.297344pt\" version=\"1.1\" viewBox=\"0 0 251.565 249.297344\" width=\"251.565pt\" xmlns=\"http://www.w3.org/2000/svg\" xmlns:xlink=\"http://www.w3.org/1999/xlink\">\n <defs>\n  <style type=\"text/css\">\n*{stroke-linecap:butt;stroke-linejoin:round;}\n  </style>\n </defs>\n <g id=\"figure_1\">\n  <g id=\"patch_1\">\n   <path d=\"M 0 249.297344 \nL 251.565 249.297344 \nL 251.565 0 \nL 0 0 \nz\n\" style=\"fill:none;\"/>\n  </g>\n  <g id=\"axes_1\">\n   <g id=\"patch_2\">\n    <path d=\"M 26.925 225.419219 \nL 244.365 225.419219 \nL 244.365 7.979219 \nL 26.925 7.979219 \nz\n\" style=\"fill:#ffffff;\"/>\n   </g>\n   <g clip-path=\"url(#p4410002957)\">\n    <image height=\"218\" id=\"image3938bb01f4\" transform=\"scale(1 -1)translate(0 -218)\" width=\"218\" x=\"26.925\" xlink:href=\"data:image/png;base64,\niVBORw0KGgoAAAANSUhEUgAAANoAAADaCAYAAADAHVzbAAAABHNCSVQICAgIfAhkiAAAD69JREFUeJztnTdvFl0QRi8fS04GbIIBGwyIHAQIKkCChn+LqGgQoQHTUFCQk4nGmJzz9wfmrDQIDc055eNl3929O1rp4Zm5My5fvvy7BcybNy+Ska7rQv3du3ehfu7cuVAfHx9P/S5d58jICP6bhQsXhvrv3+GjaIsWLQr1JUuWhPrMmTNT558zZ07q+O/fv4f6x48fQ53W4MOHD6H+9evXUP/582eof/nyJXU8XX8f8+fPD3V6dnQP79+/D/U9e/aE+u7du0OdninxX+poEfkjLDSRAiw0kQIsNJECLDSRArr//otr7devX6E+d+7c1PHPnz8P9enp6VCn65k9e3aoDw8Ph/rg4GCot8YuIjmn5FKS40n3QOcn54xcO3LU6Hro/KRn3UiCXNNv376l9Nb4/SKdoLWZmJgI9dHR0VAnZ5nW2C+aSAEWmkgBFppIARaaSAEWmkgB3axZs8I/kONFbgs5UuTmTE5Ops5PWTdyEMmlbK01umf6jQULFoT6jBkz8DciyLGla/3x40fq/HQ95ISRTmtAWUo6nqBsJLmdrbG7SO8pQa7jmzdvQp1ymeTY0lr6RRMpwEITKcBCEynAQhMpwEITKaAj54ncFnK26PipqalQf/36daiTi0guD7lFfW4UuV6LFy8Odbq3rCtI5ydXk86f/V3KHJJbSDqtPbm1dDzptC6tcQ6S3Ei6Z4LcSHKoSad784smUoCFJlKAhSZSgIUmUoCFJlJAR+5M1m25fv16qN+8eTPUN2zYEOrUkU3uEl0PuZGt8Uw+ckLJ8aIZgeSQUtc3uY4DAwOhTvf8+fPnUCcnjDqyKZNJrmDW4aPzL126FP8N5SApf5l1KcmlptmddB76Xb9oIgVYaCIFWGgiBVhoIgVYaCIF4FxHcmHevn0b6k+ePAn1rENGuTlyeV6+fBnqfR3W5MK9evUq1MkJJceL8prkaq5fvz7UyZ2jOZN0PDlhWbeQXEo6D61Z9p1rjdeTcqh0LromeifoPNnuer9oIgVYaCIFWGgiBVhoIgVYaCIF4FxHclUeP34c6s+ePQv17H7RlAekuZGUE+zr1qWMIl3T6tWrQz3r/lHn8rp160KdoKwmnZ9cvuwcyOwM0GyXfp8Lmu3WpnORnr0HWmN61n7RRAqw0EQKsNBECrDQRAqw0EQK6LLZr/v374c6dcCSK0jZteXLl4c6OW3kRlKusDXO/q1atSrUN2/eHOp0reRUUTaS7oHmN5LjRR3ZlFGk3yWd3onsO0TOX19+MLtjTXYWJ52f3EhyZune/KKJFGChiRRgoYkUYKGJFGChiRTQkTtDztyDBw9SP0COFHUhU1aMXCHKG/ZlHWlW36ZNm0J97dq1oU7PjhxYehYjIyOhTt3j5F5Sh3h2ByByKWnuIp0/6xTS2vf9Bt1DNvdJx5NLSa65u8mI/EMsNJECLDSRAiw0kQIsNJECLDSRAnCAKm17lN2qiGxTspCz9uuNGzdSemscmiU7/dChQ6E+NDQU6hQ2pv/SoCDqtWvXQv3q1aup86xZsybUh4eHQ502tac1yLb1Zwe3tpYfZJod30DQfxNlN5f3iyZSgIUmUoCFJlKAhSZSgIUmUkCXHZRK7g85SVlHio6nQC4NN+0LP09MTIT6+Ph4qNNWVeTa0fgGclopGPvo0aNQp1Axbf+0bdu2UKdnR+4iXWfWKaYxAKT3nYt0Cv3StmA0+oIC4jiywAGqIv8OC02kAAtNpAALTaQAC02kgI42bX/48GGok/NE+cFly5aljqcxA/S7K1euDPWDBw+GemvszpGTROMSKN9Jjhfp5OTu3Lkz1GnQK2Uvyc2jNn1yoimrSXlAcoqJvhxiNltIDi/9xuTkZKjTvdGa4QiFUBWRv4qFJlKAhSZSgIUmUoCFJlJAd/LkyfAPtE0SuTbkwH369CnUyY0ksh2zY2NjeC7anD27XRG5fJSny2YCKTOZHQ5Kbie5guS00VrS88l2RdN19p2Lsoi0lnQecikp80vH22Et8g+x0EQKsNBECrDQRAqw0EQKwKwjZQuzW/RQzi7rIpJOMwjJder7G7l8tG1Tdk4jObO0HRJ1dtOa0e9m83q0Zllnma6H3M6+bGT235BO+U5ywek9pWdKndp+0UQKsNBECrDQRAqw0EQKsNBECsDN4skxyrqL2U24abcayl5SrpAyZ61xpo5mStLuMHQP5ApSPo7mNNI9kztKDiztDERuId0XOW3ZjdNJ79tlJrsDDR1PTiu5lPQe0T2TM+sXTaQAC02kAAtNpAALTaQAC02kgI7cQnJnsl282ZmC5LQ9efIk1MkJ27p1a6j3XdPt27dDnRwschEpN0eZRnJ+6fhsvpO6hOl42mUmu8bZrCO9c63l5zrSNZHjme3IpnvA7vpQFZG/ioUmUoCFJlKAhSZSgIUmUgDuYU1k5zrSTizk2FH+jvKDT58+DXXacaXvN86ePRvq1GE9MjIS6rRnNOU4r169Guq0683u3btDnZwzcnKza9Y3dzEiO++xz3XMdn1TbjW7gw7lUKenp0MdJwqEqoj8VSw0kQIsNJECLDSRAiw0kQI6ymxRTo0yZ+T+UC6PdOrIJvdnamoq1GkmYmucjySdHCnKKL569SrUyak6c+ZMqB8+fDjUKYtIOTvKXtJcSurgJseO8ob0DmV37Wktn7El1/Hbt2+h/rfmQ9phLfIPsdBECrDQRAqw0EQKsNBECuiynavk8tDxpJOzRW4ROVjk5PXtJrNkyZJQP3HiRKgfOXIk1CnXNjAwEOqUsaQs5fDwcKhTTpRcU3rWdJ10fnIFycmjd4voyzpmXXBaG3ofs7snUR3grjShKiJ/FQtNpAALTaQAC02kAAtNpICOslnZjlbKKJKTRC4SuY7k5hw8eDDUr127Fuqtsdu2cuXKUN+xY0eoU6ZxcHAw1Mmpot1qKGf34cOH1PFDQ0OhTu4r8bd2dPmTuY59f4vI7mRD7wR1p2e72f2iiRRgoYkUYKGJFGChiRRgoYkU0JGbk3XIyAkjZ4syZ9S5Sm4kdRVv37491Ftr7eXLl6FOLhkdT7u9UPaPnFx61pTjJGgOZHbv7OyOK7SWNB+SzkN7bbfGTiVB7zW547T2tDZ0D3fv3g11v2giBVhoIgVYaCIFWGgiBVhoIgV0tOsKdQOTK5jd55lmClJWjHKF5OSR3vc3ck5pD2jq7qXcHEGOGjm85JzR2pB7Sc5ctsOazkM7AFE3M+VZ+36b3hfqNieHlM5P3em0MxDlZf2iiRRgoYkUYKGJFGChiRRgoYkUgHtYkwOX7Sy9efNmqFNGkTq4yS2iXWPIgWuNc5P0LMgVpOPJ1SQnjFy7P3FUI8ilJLK7vZBLSa4jnZ+Ob42dyuwON7T2lLOk33348GGo7927N9T9ookUYKGJFGChiRRgoYkUYKGJFNBRppEcIHIFqROVMmEvXrwIdXKFKBv57NmzUKfu4b5zUe4zS3bGJXUiU6c2uXbkFGfXmJw8mldJOVRyKen5kFPYGju/uGc05FDJ+aU91ek9HR8fD3V63/2iiRRgoYkUYKGJFGChiRRgoYkUgHMdydmampoKdepCpq7Z0dHRUF+xYkWok0NGx9+6dSvUW2OXrK/DN3NN5HiSE0YuHDlq5C7STEFyHclpo+vJ7uc8OTkZ6vTOUTdza/zssvMeiWzGlu6N3i2/aCIFWGgiBVhoIgVYaCIFWGgiBXTknpBzRvMbb9y4Ef8AdAOTq0lZMepopTl6dHxrfA+UdaQsInWJE+RgURdvdnebbDc73Ret5YULF0J99erVoU7OL+3CQ/uRt8YOaXaHG3of6X0nR5XeO6onv2giBVhoIgVYaCIFWGgiBVhoIgV01HFK7h85THv27Al1yuVRZvL+/fuhfvv27VBfu3ZtqJP70xpn+dasWRPq+/fvD3Xan5tyc9Q9To4XuYuk04xLcubod0+fPh3qT58+DXXaPYeyi8eOHQt1ckFb40wjObO0BtkZl3T80NBQqOs6ivxDLDSRAiw0kQIsNJECLDSRAiw0kQK6zZs3h384depUqNN/B2zbti3UyTKn/z6g4Z1Hjx4NdbKo++z958+fh3p28Cnp9IzIiqaRCLQVFgVdKRRN9j5tVUTjIciWpzEDW7ZsCfUdO3aEOg3Dba21ixcvhjr9F8KBAwdSx1MImcZAUBCcnrVfNJECLDSRAiw0kQIsNJECLDSRAjoKR46MjIT6lStXQp2Crvv27Qv1rVu3hjo5WNPT06F+79691PW0xoFTGqBKgVZymCgcSwNI6Tw0jJMcVWqvJ6eNnvXx48dDncLD9Dxfv34d6hQcp7VsjV0+CpUvX7481MnhpcA3/S6NRKBn5BdNpAALTaQAC02kAAtNpAALTaQA3LaJHDjaaJ2csPPnz4f6pUuXQp2yZTQSgdwiyli21tquXbtCnUYWrFu3LtTJeSJnizZ/p0wj5UHpWdPxtMZ0/bT25FCTM0fXSSMX+iBHldaZxkyQ00rOL+VTKRdLOVS/aCIFWGgiBVhoIgVYaCIFWGgiBXTkGG3atCnU6XjaMojcQtLJdaSth6hblzq+W+Pu27GxsVAnJ4mcKspGkuNFWxKRy0e5T+pQfvDgQaiT+0fXOW/evFAn54/WkrKRGzduDPXWWtu+fXuo00Bf6tSn95eeBXXLE9Sp7RdNpAALTaQAC02kAAtNpAALTaSAjjqRKd+3d+/eUKcsGnUVU/6OoJmFo6OjoU6drq2xy0fZP3IRyWGi4+me6d4GBwdDff369aFOa0NuJHVA06xMclkpq0kuJWUpyfVtje+ZHFK6Bzqeurtpqyq6Z8qz+kUTKcBCEynAQhMpwEITKcBCEymgo9wczcXLdjST+0cOH7lC5GqSs0XnaY27Zskxom5a0sl1pNwc6ZTvJNeUdNoxiFxQ6hCnfCpdP3Ybw9qQi9v3N/ptWgO6puvXr4f6xMREqNPMTcp3+kUTKcBCEynAQhMpwEITKcBCEymgo25X6kQl94fcSHJ5KANJkLtE10/OYt9vZ3OZpJOrRrvM0LPLXifpdD10PLmddP10fnL+yN0lt7M1fh/pt+k3KPdJ+5pTppHW3rmOIv8QC02kAAtNpAALTaQAC02kgI6yiNldNMg5y3ZSk4tIDhm5PDTXr+9c2ewiOWF0HnLzsvMhs2tDOp2H9KzDR9dP9K1ZNg9K792dO3dCnTqys3tY0zPyiyZSgIUmUoCFJlKAhSZSgIUmUkBHDhPlzshdJLeQ3CJy/uj85PKQY9eXm6NzUYcyOZvZTm2C8qPZfZLp2ZH7R93A5P6Ro0bXk3Ud+57bmzdvQp3uOdt5T8+C3q9sztUvmkgBFppIARaaSAEWmkgBFppIAf8DHanzj3zDqNwAAAAASUVORK5CYII=\" y=\"-7.419219\"/>\n   </g>\n   <g id=\"matplotlib.axis_1\">\n    <g id=\"xtick_1\">\n     <g id=\"line2d_1\">\n      <defs>\n       <path d=\"M 0 0 \nL 0 3.5 \n\" id=\"m338293fe52\" style=\"stroke:#000000;stroke-width:0.8;\"/>\n      </defs>\n      <g>\n       <use style=\"stroke:#000000;stroke-width:0.8;\" x=\"29.945\" xlink:href=\"#m338293fe52\" y=\"225.419219\"/>\n      </g>\n     </g>\n     <g id=\"text_1\">\n      <!-- 0 -->\n      <defs>\n       <path d=\"M 31.78125 66.40625 \nQ 24.171875 66.40625 20.328125 58.90625 \nQ 16.5 51.421875 16.5 36.375 \nQ 16.5 21.390625 20.328125 13.890625 \nQ 24.171875 6.390625 31.78125 6.390625 \nQ 39.453125 6.390625 43.28125 13.890625 \nQ 47.125 21.390625 47.125 36.375 \nQ 47.125 51.421875 43.28125 58.90625 \nQ 39.453125 66.40625 31.78125 66.40625 \nz\nM 31.78125 74.21875 \nQ 44.046875 74.21875 50.515625 64.515625 \nQ 56.984375 54.828125 56.984375 36.375 \nQ 56.984375 17.96875 50.515625 8.265625 \nQ 44.046875 -1.421875 31.78125 -1.421875 \nQ 19.53125 -1.421875 13.0625 8.265625 \nQ 6.59375 17.96875 6.59375 36.375 \nQ 6.59375 54.828125 13.0625 64.515625 \nQ 19.53125 74.21875 31.78125 74.21875 \nz\n\" id=\"DejaVuSans-48\"/>\n      </defs>\n      <g transform=\"translate(26.76375 240.017656)scale(0.1 -0.1)\">\n       <use xlink:href=\"#DejaVuSans-48\"/>\n      </g>\n     </g>\n    </g>\n    <g id=\"xtick_2\">\n     <g id=\"line2d_2\">\n      <g>\n       <use style=\"stroke:#000000;stroke-width:0.8;\" x=\"90.345\" xlink:href=\"#m338293fe52\" y=\"225.419219\"/>\n      </g>\n     </g>\n     <g id=\"text_2\">\n      <!-- 10 -->\n      <defs>\n       <path d=\"M 12.40625 8.296875 \nL 28.515625 8.296875 \nL 28.515625 63.921875 \nL 10.984375 60.40625 \nL 10.984375 69.390625 \nL 28.421875 72.90625 \nL 38.28125 72.90625 \nL 38.28125 8.296875 \nL 54.390625 8.296875 \nL 54.390625 0 \nL 12.40625 0 \nz\n\" id=\"DejaVuSans-49\"/>\n      </defs>\n      <g transform=\"translate(83.9825 240.017656)scale(0.1 -0.1)\">\n       <use xlink:href=\"#DejaVuSans-49\"/>\n       <use x=\"63.623047\" xlink:href=\"#DejaVuSans-48\"/>\n      </g>\n     </g>\n    </g>\n    <g id=\"xtick_3\">\n     <g id=\"line2d_3\">\n      <g>\n       <use style=\"stroke:#000000;stroke-width:0.8;\" x=\"150.745\" xlink:href=\"#m338293fe52\" y=\"225.419219\"/>\n      </g>\n     </g>\n     <g id=\"text_3\">\n      <!-- 20 -->\n      <defs>\n       <path d=\"M 19.1875 8.296875 \nL 53.609375 8.296875 \nL 53.609375 0 \nL 7.328125 0 \nL 7.328125 8.296875 \nQ 12.9375 14.109375 22.625 23.890625 \nQ 32.328125 33.6875 34.8125 36.53125 \nQ 39.546875 41.84375 41.421875 45.53125 \nQ 43.3125 49.21875 43.3125 52.78125 \nQ 43.3125 58.59375 39.234375 62.25 \nQ 35.15625 65.921875 28.609375 65.921875 \nQ 23.96875 65.921875 18.8125 64.3125 \nQ 13.671875 62.703125 7.8125 59.421875 \nL 7.8125 69.390625 \nQ 13.765625 71.78125 18.9375 73 \nQ 24.125 74.21875 28.421875 74.21875 \nQ 39.75 74.21875 46.484375 68.546875 \nQ 53.21875 62.890625 53.21875 53.421875 \nQ 53.21875 48.921875 51.53125 44.890625 \nQ 49.859375 40.875 45.40625 35.40625 \nQ 44.1875 33.984375 37.640625 27.21875 \nQ 31.109375 20.453125 19.1875 8.296875 \nz\n\" id=\"DejaVuSans-50\"/>\n      </defs>\n      <g transform=\"translate(144.3825 240.017656)scale(0.1 -0.1)\">\n       <use xlink:href=\"#DejaVuSans-50\"/>\n       <use x=\"63.623047\" xlink:href=\"#DejaVuSans-48\"/>\n      </g>\n     </g>\n    </g>\n    <g id=\"xtick_4\">\n     <g id=\"line2d_4\">\n      <g>\n       <use style=\"stroke:#000000;stroke-width:0.8;\" x=\"211.145\" xlink:href=\"#m338293fe52\" y=\"225.419219\"/>\n      </g>\n     </g>\n     <g id=\"text_4\">\n      <!-- 30 -->\n      <defs>\n       <path d=\"M 40.578125 39.3125 \nQ 47.65625 37.796875 51.625 33 \nQ 55.609375 28.21875 55.609375 21.1875 \nQ 55.609375 10.40625 48.1875 4.484375 \nQ 40.765625 -1.421875 27.09375 -1.421875 \nQ 22.515625 -1.421875 17.65625 -0.515625 \nQ 12.796875 0.390625 7.625 2.203125 \nL 7.625 11.71875 \nQ 11.71875 9.328125 16.59375 8.109375 \nQ 21.484375 6.890625 26.8125 6.890625 \nQ 36.078125 6.890625 40.9375 10.546875 \nQ 45.796875 14.203125 45.796875 21.1875 \nQ 45.796875 27.640625 41.28125 31.265625 \nQ 36.765625 34.90625 28.71875 34.90625 \nL 20.21875 34.90625 \nL 20.21875 43.015625 \nL 29.109375 43.015625 \nQ 36.375 43.015625 40.234375 45.921875 \nQ 44.09375 48.828125 44.09375 54.296875 \nQ 44.09375 59.90625 40.109375 62.90625 \nQ 36.140625 65.921875 28.71875 65.921875 \nQ 24.65625 65.921875 20.015625 65.03125 \nQ 15.375 64.15625 9.8125 62.3125 \nL 9.8125 71.09375 \nQ 15.4375 72.65625 20.34375 73.4375 \nQ 25.25 74.21875 29.59375 74.21875 \nQ 40.828125 74.21875 47.359375 69.109375 \nQ 53.90625 64.015625 53.90625 55.328125 \nQ 53.90625 49.265625 50.4375 45.09375 \nQ 46.96875 40.921875 40.578125 39.3125 \nz\n\" id=\"DejaVuSans-51\"/>\n      </defs>\n      <g transform=\"translate(204.7825 240.017656)scale(0.1 -0.1)\">\n       <use xlink:href=\"#DejaVuSans-51\"/>\n       <use x=\"63.623047\" xlink:href=\"#DejaVuSans-48\"/>\n      </g>\n     </g>\n    </g>\n   </g>\n   <g id=\"matplotlib.axis_2\">\n    <g id=\"ytick_1\">\n     <g id=\"line2d_5\">\n      <defs>\n       <path d=\"M 0 0 \nL -3.5 0 \n\" id=\"m4b33c93924\" style=\"stroke:#000000;stroke-width:0.8;\"/>\n      </defs>\n      <g>\n       <use style=\"stroke:#000000;stroke-width:0.8;\" x=\"26.925\" xlink:href=\"#m4b33c93924\" y=\"10.999219\"/>\n      </g>\n     </g>\n     <g id=\"text_5\">\n      <!-- 0 -->\n      <g transform=\"translate(13.5625 14.798437)scale(0.1 -0.1)\">\n       <use xlink:href=\"#DejaVuSans-48\"/>\n      </g>\n     </g>\n    </g>\n    <g id=\"ytick_2\">\n     <g id=\"line2d_6\">\n      <g>\n       <use style=\"stroke:#000000;stroke-width:0.8;\" x=\"26.925\" xlink:href=\"#m4b33c93924\" y=\"41.199219\"/>\n      </g>\n     </g>\n     <g id=\"text_6\">\n      <!-- 5 -->\n      <defs>\n       <path d=\"M 10.796875 72.90625 \nL 49.515625 72.90625 \nL 49.515625 64.59375 \nL 19.828125 64.59375 \nL 19.828125 46.734375 \nQ 21.96875 47.46875 24.109375 47.828125 \nQ 26.265625 48.1875 28.421875 48.1875 \nQ 40.625 48.1875 47.75 41.5 \nQ 54.890625 34.8125 54.890625 23.390625 \nQ 54.890625 11.625 47.5625 5.09375 \nQ 40.234375 -1.421875 26.90625 -1.421875 \nQ 22.3125 -1.421875 17.546875 -0.640625 \nQ 12.796875 0.140625 7.71875 1.703125 \nL 7.71875 11.625 \nQ 12.109375 9.234375 16.796875 8.0625 \nQ 21.484375 6.890625 26.703125 6.890625 \nQ 35.15625 6.890625 40.078125 11.328125 \nQ 45.015625 15.765625 45.015625 23.390625 \nQ 45.015625 31 40.078125 35.4375 \nQ 35.15625 39.890625 26.703125 39.890625 \nQ 22.75 39.890625 18.8125 39.015625 \nQ 14.890625 38.140625 10.796875 36.28125 \nz\n\" id=\"DejaVuSans-53\"/>\n      </defs>\n      <g transform=\"translate(13.5625 44.998437)scale(0.1 -0.1)\">\n       <use xlink:href=\"#DejaVuSans-53\"/>\n      </g>\n     </g>\n    </g>\n    <g id=\"ytick_3\">\n     <g id=\"line2d_7\">\n      <g>\n       <use style=\"stroke:#000000;stroke-width:0.8;\" x=\"26.925\" xlink:href=\"#m4b33c93924\" y=\"71.399219\"/>\n      </g>\n     </g>\n     <g id=\"text_7\">\n      <!-- 10 -->\n      <g transform=\"translate(7.2 75.198437)scale(0.1 -0.1)\">\n       <use xlink:href=\"#DejaVuSans-49\"/>\n       <use x=\"63.623047\" xlink:href=\"#DejaVuSans-48\"/>\n      </g>\n     </g>\n    </g>\n    <g id=\"ytick_4\">\n     <g id=\"line2d_8\">\n      <g>\n       <use style=\"stroke:#000000;stroke-width:0.8;\" x=\"26.925\" xlink:href=\"#m4b33c93924\" y=\"101.599219\"/>\n      </g>\n     </g>\n     <g id=\"text_8\">\n      <!-- 15 -->\n      <g transform=\"translate(7.2 105.398437)scale(0.1 -0.1)\">\n       <use xlink:href=\"#DejaVuSans-49\"/>\n       <use x=\"63.623047\" xlink:href=\"#DejaVuSans-53\"/>\n      </g>\n     </g>\n    </g>\n    <g id=\"ytick_5\">\n     <g id=\"line2d_9\">\n      <g>\n       <use style=\"stroke:#000000;stroke-width:0.8;\" x=\"26.925\" xlink:href=\"#m4b33c93924\" y=\"131.799219\"/>\n      </g>\n     </g>\n     <g id=\"text_9\">\n      <!-- 20 -->\n      <g transform=\"translate(7.2 135.598437)scale(0.1 -0.1)\">\n       <use xlink:href=\"#DejaVuSans-50\"/>\n       <use x=\"63.623047\" xlink:href=\"#DejaVuSans-48\"/>\n      </g>\n     </g>\n    </g>\n    <g id=\"ytick_6\">\n     <g id=\"line2d_10\">\n      <g>\n       <use style=\"stroke:#000000;stroke-width:0.8;\" x=\"26.925\" xlink:href=\"#m4b33c93924\" y=\"161.999219\"/>\n      </g>\n     </g>\n     <g id=\"text_10\">\n      <!-- 25 -->\n      <g transform=\"translate(7.2 165.798437)scale(0.1 -0.1)\">\n       <use xlink:href=\"#DejaVuSans-50\"/>\n       <use x=\"63.623047\" xlink:href=\"#DejaVuSans-53\"/>\n      </g>\n     </g>\n    </g>\n    <g id=\"ytick_7\">\n     <g id=\"line2d_11\">\n      <g>\n       <use style=\"stroke:#000000;stroke-width:0.8;\" x=\"26.925\" xlink:href=\"#m4b33c93924\" y=\"192.199219\"/>\n      </g>\n     </g>\n     <g id=\"text_11\">\n      <!-- 30 -->\n      <g transform=\"translate(7.2 195.998437)scale(0.1 -0.1)\">\n       <use xlink:href=\"#DejaVuSans-51\"/>\n       <use x=\"63.623047\" xlink:href=\"#DejaVuSans-48\"/>\n      </g>\n     </g>\n    </g>\n    <g id=\"ytick_8\">\n     <g id=\"line2d_12\">\n      <g>\n       <use style=\"stroke:#000000;stroke-width:0.8;\" x=\"26.925\" xlink:href=\"#m4b33c93924\" y=\"222.399219\"/>\n      </g>\n     </g>\n     <g id=\"text_12\">\n      <!-- 35 -->\n      <g transform=\"translate(7.2 226.198437)scale(0.1 -0.1)\">\n       <use xlink:href=\"#DejaVuSans-51\"/>\n       <use x=\"63.623047\" xlink:href=\"#DejaVuSans-53\"/>\n      </g>\n     </g>\n    </g>\n   </g>\n   <g id=\"patch_3\">\n    <path d=\"M 26.925 225.419219 \nL 26.925 7.979219 \n\" style=\"fill:none;stroke:#000000;stroke-linecap:square;stroke-linejoin:miter;stroke-width:0.8;\"/>\n   </g>\n   <g id=\"patch_4\">\n    <path d=\"M 244.365 225.419219 \nL 244.365 7.979219 \n\" style=\"fill:none;stroke:#000000;stroke-linecap:square;stroke-linejoin:miter;stroke-width:0.8;\"/>\n   </g>\n   <g id=\"patch_5\">\n    <path d=\"M 26.925 225.419219 \nL 244.365 225.419219 \n\" style=\"fill:none;stroke:#000000;stroke-linecap:square;stroke-linejoin:miter;stroke-width:0.8;\"/>\n   </g>\n   <g id=\"patch_6\">\n    <path d=\"M 26.925 7.979219 \nL 244.365 7.979219 \n\" style=\"fill:none;stroke:#000000;stroke-linecap:square;stroke-linejoin:miter;stroke-width:0.8;\"/>\n   </g>\n  </g>\n </g>\n <defs>\n  <clipPath id=\"p4410002957\">\n   <rect height=\"217.44\" width=\"217.44\" x=\"26.925\" y=\"7.979219\"/>\n  </clipPath>\n </defs>\n</svg>\n",
      "image/png": "[encoded data removed]"
     },
     "metadata": {
      "needs_background": "light"
     }
    }
   ],
   "source": [
    "img = cv2.imread('./start_deep/train_images/1/Image000605.pgm')\n",
    "plt.imshow(img)\n",
    "plt.show()"
   ]
  },
  {
   "cell_type": "code",
   "execution_count": 5,
   "metadata": {},
   "outputs": [
    {
     "output_type": "display_data",
     "data": {
      "text/plain": "<Figure size 432x288 with 1 Axes>",
      "image/svg+xml": "<?xml version=\"1.0\" encoding=\"utf-8\" standalone=\"no\"?>\n<!DOCTYPE svg PUBLIC \"-//W3C//DTD SVG 1.1//EN\"\n  \"http://www.w3.org/Graphics/SVG/1.1/DTD/svg11.dtd\">\n<!-- Created with matplotlib (https://matplotlib.org/) -->\n<svg height=\"249.297344pt\" version=\"1.1\" viewBox=\"0 0 251.565 249.297344\" width=\"251.565pt\" xmlns=\"http://www.w3.org/2000/svg\" xmlns:xlink=\"http://www.w3.org/1999/xlink\">\n <defs>\n  <style type=\"text/css\">\n*{stroke-linecap:butt;stroke-linejoin:round;}\n  </style>\n </defs>\n <g id=\"figure_1\">\n  <g id=\"patch_1\">\n   <path d=\"M 0 249.297344 \nL 251.565 249.297344 \nL 251.565 0 \nL 0 0 \nz\n\" style=\"fill:none;\"/>\n  </g>\n  <g id=\"axes_1\">\n   <g id=\"patch_2\">\n    <path d=\"M 26.925 225.419219 \nL 244.365 225.419219 \nL 244.365 7.979219 \nL 26.925 7.979219 \nz\n\" style=\"fill:#ffffff;\"/>\n   </g>\n   <g clip-path=\"url(#p1086b3d657)\">\n    <image height=\"218\" id=\"image1da392d226\" transform=\"scale(1 -1)translate(0 -218)\" width=\"218\" x=\"26.925\" xlink:href=\"data:image/png;base64,\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\" y=\"-7.419219\"/>\n   </g>\n   <g id=\"matplotlib.axis_1\">\n    <g id=\"xtick_1\">\n     <g id=\"line2d_1\">\n      <defs>\n       <path d=\"M 0 0 \nL 0 3.5 \n\" id=\"m6c9c7a960d\" style=\"stroke:#000000;stroke-width:0.8;\"/>\n      </defs>\n      <g>\n       <use style=\"stroke:#000000;stroke-width:0.8;\" x=\"29.945\" xlink:href=\"#m6c9c7a960d\" y=\"225.419219\"/>\n      </g>\n     </g>\n     <g id=\"text_1\">\n      <!-- 0 -->\n      <defs>\n       <path d=\"M 31.78125 66.40625 \nQ 24.171875 66.40625 20.328125 58.90625 \nQ 16.5 51.421875 16.5 36.375 \nQ 16.5 21.390625 20.328125 13.890625 \nQ 24.171875 6.390625 31.78125 6.390625 \nQ 39.453125 6.390625 43.28125 13.890625 \nQ 47.125 21.390625 47.125 36.375 \nQ 47.125 51.421875 43.28125 58.90625 \nQ 39.453125 66.40625 31.78125 66.40625 \nz\nM 31.78125 74.21875 \nQ 44.046875 74.21875 50.515625 64.515625 \nQ 56.984375 54.828125 56.984375 36.375 \nQ 56.984375 17.96875 50.515625 8.265625 \nQ 44.046875 -1.421875 31.78125 -1.421875 \nQ 19.53125 -1.421875 13.0625 8.265625 \nQ 6.59375 17.96875 6.59375 36.375 \nQ 6.59375 54.828125 13.0625 64.515625 \nQ 19.53125 74.21875 31.78125 74.21875 \nz\n\" id=\"DejaVuSans-48\"/>\n      </defs>\n      <g transform=\"translate(26.76375 240.017656)scale(0.1 -0.1)\">\n       <use xlink:href=\"#DejaVuSans-48\"/>\n      </g>\n     </g>\n    </g>\n    <g id=\"xtick_2\">\n     <g id=\"line2d_2\">\n      <g>\n       <use style=\"stroke:#000000;stroke-width:0.8;\" x=\"90.345\" xlink:href=\"#m6c9c7a960d\" y=\"225.419219\"/>\n      </g>\n     </g>\n     <g id=\"text_2\">\n      <!-- 10 -->\n      <defs>\n       <path d=\"M 12.40625 8.296875 \nL 28.515625 8.296875 \nL 28.515625 63.921875 \nL 10.984375 60.40625 \nL 10.984375 69.390625 \nL 28.421875 72.90625 \nL 38.28125 72.90625 \nL 38.28125 8.296875 \nL 54.390625 8.296875 \nL 54.390625 0 \nL 12.40625 0 \nz\n\" id=\"DejaVuSans-49\"/>\n      </defs>\n      <g transform=\"translate(83.9825 240.017656)scale(0.1 -0.1)\">\n       <use xlink:href=\"#DejaVuSans-49\"/>\n       <use x=\"63.623047\" xlink:href=\"#DejaVuSans-48\"/>\n      </g>\n     </g>\n    </g>\n    <g id=\"xtick_3\">\n     <g id=\"line2d_3\">\n      <g>\n       <use style=\"stroke:#000000;stroke-width:0.8;\" x=\"150.745\" xlink:href=\"#m6c9c7a960d\" y=\"225.419219\"/>\n      </g>\n     </g>\n     <g id=\"text_3\">\n      <!-- 20 -->\n      <defs>\n       <path d=\"M 19.1875 8.296875 \nL 53.609375 8.296875 \nL 53.609375 0 \nL 7.328125 0 \nL 7.328125 8.296875 \nQ 12.9375 14.109375 22.625 23.890625 \nQ 32.328125 33.6875 34.8125 36.53125 \nQ 39.546875 41.84375 41.421875 45.53125 \nQ 43.3125 49.21875 43.3125 52.78125 \nQ 43.3125 58.59375 39.234375 62.25 \nQ 35.15625 65.921875 28.609375 65.921875 \nQ 23.96875 65.921875 18.8125 64.3125 \nQ 13.671875 62.703125 7.8125 59.421875 \nL 7.8125 69.390625 \nQ 13.765625 71.78125 18.9375 73 \nQ 24.125 74.21875 28.421875 74.21875 \nQ 39.75 74.21875 46.484375 68.546875 \nQ 53.21875 62.890625 53.21875 53.421875 \nQ 53.21875 48.921875 51.53125 44.890625 \nQ 49.859375 40.875 45.40625 35.40625 \nQ 44.1875 33.984375 37.640625 27.21875 \nQ 31.109375 20.453125 19.1875 8.296875 \nz\n\" id=\"DejaVuSans-50\"/>\n      </defs>\n      <g transform=\"translate(144.3825 240.017656)scale(0.1 -0.1)\">\n       <use xlink:href=\"#DejaVuSans-50\"/>\n       <use x=\"63.623047\" xlink:href=\"#DejaVuSans-48\"/>\n      </g>\n     </g>\n    </g>\n    <g id=\"xtick_4\">\n     <g id=\"line2d_4\">\n      <g>\n       <use style=\"stroke:#000000;stroke-width:0.8;\" x=\"211.145\" xlink:href=\"#m6c9c7a960d\" y=\"225.419219\"/>\n      </g>\n     </g>\n     <g id=\"text_4\">\n      <!-- 30 -->\n      <defs>\n       <path d=\"M 40.578125 39.3125 \nQ 47.65625 37.796875 51.625 33 \nQ 55.609375 28.21875 55.609375 21.1875 \nQ 55.609375 10.40625 48.1875 4.484375 \nQ 40.765625 -1.421875 27.09375 -1.421875 \nQ 22.515625 -1.421875 17.65625 -0.515625 \nQ 12.796875 0.390625 7.625 2.203125 \nL 7.625 11.71875 \nQ 11.71875 9.328125 16.59375 8.109375 \nQ 21.484375 6.890625 26.8125 6.890625 \nQ 36.078125 6.890625 40.9375 10.546875 \nQ 45.796875 14.203125 45.796875 21.1875 \nQ 45.796875 27.640625 41.28125 31.265625 \nQ 36.765625 34.90625 28.71875 34.90625 \nL 20.21875 34.90625 \nL 20.21875 43.015625 \nL 29.109375 43.015625 \nQ 36.375 43.015625 40.234375 45.921875 \nQ 44.09375 48.828125 44.09375 54.296875 \nQ 44.09375 59.90625 40.109375 62.90625 \nQ 36.140625 65.921875 28.71875 65.921875 \nQ 24.65625 65.921875 20.015625 65.03125 \nQ 15.375 64.15625 9.8125 62.3125 \nL 9.8125 71.09375 \nQ 15.4375 72.65625 20.34375 73.4375 \nQ 25.25 74.21875 29.59375 74.21875 \nQ 40.828125 74.21875 47.359375 69.109375 \nQ 53.90625 64.015625 53.90625 55.328125 \nQ 53.90625 49.265625 50.4375 45.09375 \nQ 46.96875 40.921875 40.578125 39.3125 \nz\n\" id=\"DejaVuSans-51\"/>\n      </defs>\n      <g transform=\"translate(204.7825 240.017656)scale(0.1 -0.1)\">\n       <use xlink:href=\"#DejaVuSans-51\"/>\n       <use x=\"63.623047\" xlink:href=\"#DejaVuSans-48\"/>\n      </g>\n     </g>\n    </g>\n   </g>\n   <g id=\"matplotlib.axis_2\">\n    <g id=\"ytick_1\">\n     <g id=\"line2d_5\">\n      <defs>\n       <path d=\"M 0 0 \nL -3.5 0 \n\" id=\"m6982356688\" style=\"stroke:#000000;stroke-width:0.8;\"/>\n      </defs>\n      <g>\n       <use style=\"stroke:#000000;stroke-width:0.8;\" x=\"26.925\" xlink:href=\"#m6982356688\" y=\"10.999219\"/>\n      </g>\n     </g>\n     <g id=\"text_5\">\n      <!-- 0 -->\n      <g transform=\"translate(13.5625 14.798437)scale(0.1 -0.1)\">\n       <use xlink:href=\"#DejaVuSans-48\"/>\n      </g>\n     </g>\n    </g>\n    <g id=\"ytick_2\">\n     <g id=\"line2d_6\">\n      <g>\n       <use style=\"stroke:#000000;stroke-width:0.8;\" x=\"26.925\" xlink:href=\"#m6982356688\" y=\"41.199219\"/>\n      </g>\n     </g>\n     <g id=\"text_6\">\n      <!-- 5 -->\n      <defs>\n       <path d=\"M 10.796875 72.90625 \nL 49.515625 72.90625 \nL 49.515625 64.59375 \nL 19.828125 64.59375 \nL 19.828125 46.734375 \nQ 21.96875 47.46875 24.109375 47.828125 \nQ 26.265625 48.1875 28.421875 48.1875 \nQ 40.625 48.1875 47.75 41.5 \nQ 54.890625 34.8125 54.890625 23.390625 \nQ 54.890625 11.625 47.5625 5.09375 \nQ 40.234375 -1.421875 26.90625 -1.421875 \nQ 22.3125 -1.421875 17.546875 -0.640625 \nQ 12.796875 0.140625 7.71875 1.703125 \nL 7.71875 11.625 \nQ 12.109375 9.234375 16.796875 8.0625 \nQ 21.484375 6.890625 26.703125 6.890625 \nQ 35.15625 6.890625 40.078125 11.328125 \nQ 45.015625 15.765625 45.015625 23.390625 \nQ 45.015625 31 40.078125 35.4375 \nQ 35.15625 39.890625 26.703125 39.890625 \nQ 22.75 39.890625 18.8125 39.015625 \nQ 14.890625 38.140625 10.796875 36.28125 \nz\n\" id=\"DejaVuSans-53\"/>\n      </defs>\n      <g transform=\"translate(13.5625 44.998437)scale(0.1 -0.1)\">\n       <use xlink:href=\"#DejaVuSans-53\"/>\n      </g>\n     </g>\n    </g>\n    <g id=\"ytick_3\">\n     <g id=\"line2d_7\">\n      <g>\n       <use style=\"stroke:#000000;stroke-width:0.8;\" x=\"26.925\" xlink:href=\"#m6982356688\" y=\"71.399219\"/>\n      </g>\n     </g>\n     <g id=\"text_7\">\n      <!-- 10 -->\n      <g transform=\"translate(7.2 75.198437)scale(0.1 -0.1)\">\n       <use xlink:href=\"#DejaVuSans-49\"/>\n       <use x=\"63.623047\" xlink:href=\"#DejaVuSans-48\"/>\n      </g>\n     </g>\n    </g>\n    <g id=\"ytick_4\">\n     <g id=\"line2d_8\">\n      <g>\n       <use style=\"stroke:#000000;stroke-width:0.8;\" x=\"26.925\" xlink:href=\"#m6982356688\" y=\"101.599219\"/>\n      </g>\n     </g>\n     <g id=\"text_8\">\n      <!-- 15 -->\n      <g transform=\"translate(7.2 105.398437)scale(0.1 -0.1)\">\n       <use xlink:href=\"#DejaVuSans-49\"/>\n       <use x=\"63.623047\" xlink:href=\"#DejaVuSans-53\"/>\n      </g>\n     </g>\n    </g>\n    <g id=\"ytick_5\">\n     <g id=\"line2d_9\">\n      <g>\n       <use style=\"stroke:#000000;stroke-width:0.8;\" x=\"26.925\" xlink:href=\"#m6982356688\" y=\"131.799219\"/>\n      </g>\n     </g>\n     <g id=\"text_9\">\n      <!-- 20 -->\n      <g transform=\"translate(7.2 135.598437)scale(0.1 -0.1)\">\n       <use xlink:href=\"#DejaVuSans-50\"/>\n       <use x=\"63.623047\" xlink:href=\"#DejaVuSans-48\"/>\n      </g>\n     </g>\n    </g>\n    <g id=\"ytick_6\">\n     <g id=\"line2d_10\">\n      <g>\n       <use style=\"stroke:#000000;stroke-width:0.8;\" x=\"26.925\" xlink:href=\"#m6982356688\" y=\"161.999219\"/>\n      </g>\n     </g>\n     <g id=\"text_10\">\n      <!-- 25 -->\n      <g transform=\"translate(7.2 165.798437)scale(0.1 -0.1)\">\n       <use xlink:href=\"#DejaVuSans-50\"/>\n       <use x=\"63.623047\" xlink:href=\"#DejaVuSans-53\"/>\n      </g>\n     </g>\n    </g>\n    <g id=\"ytick_7\">\n     <g id=\"line2d_11\">\n      <g>\n       <use style=\"stroke:#000000;stroke-width:0.8;\" x=\"26.925\" xlink:href=\"#m6982356688\" y=\"192.199219\"/>\n      </g>\n     </g>\n     <g id=\"text_11\">\n      <!-- 30 -->\n      <g transform=\"translate(7.2 195.998437)scale(0.1 -0.1)\">\n       <use xlink:href=\"#DejaVuSans-51\"/>\n       <use x=\"63.623047\" xlink:href=\"#DejaVuSans-48\"/>\n      </g>\n     </g>\n    </g>\n    <g id=\"ytick_8\">\n     <g id=\"line2d_12\">\n      <g>\n       <use style=\"stroke:#000000;stroke-width:0.8;\" x=\"26.925\" xlink:href=\"#m6982356688\" y=\"222.399219\"/>\n      </g>\n     </g>\n     <g id=\"text_12\">\n      <!-- 35 -->\n      <g transform=\"translate(7.2 226.198437)scale(0.1 -0.1)\">\n       <use xlink:href=\"#DejaVuSans-51\"/>\n       <use x=\"63.623047\" xlink:href=\"#DejaVuSans-53\"/>\n      </g>\n     </g>\n    </g>\n   </g>\n   <g id=\"patch_3\">\n    <path d=\"M 26.925 225.419219 \nL 26.925 7.979219 \n\" style=\"fill:none;stroke:#000000;stroke-linecap:square;stroke-linejoin:miter;stroke-width:0.8;\"/>\n   </g>\n   <g id=\"patch_4\">\n    <path d=\"M 244.365 225.419219 \nL 244.365 7.979219 \n\" style=\"fill:none;stroke:#000000;stroke-linecap:square;stroke-linejoin:miter;stroke-width:0.8;\"/>\n   </g>\n   <g id=\"patch_5\">\n    <path d=\"M 26.925 225.419219 \nL 244.365 225.419219 \n\" style=\"fill:none;stroke:#000000;stroke-linecap:square;stroke-linejoin:miter;stroke-width:0.8;\"/>\n   </g>\n   <g id=\"patch_6\">\n    <path d=\"M 26.925 7.979219 \nL 244.365 7.979219 \n\" style=\"fill:none;stroke:#000000;stroke-linecap:square;stroke-linejoin:miter;stroke-width:0.8;\"/>\n   </g>\n  </g>\n </g>\n <defs>\n  <clipPath id=\"p1086b3d657\">\n   <rect height=\"217.44\" width=\"217.44\" x=\"26.925\" y=\"7.979219\"/>\n  </clipPath>\n </defs>\n</svg>\n",
      "image/png": "[encoded data removed]"
     },
     "metadata": {
      "needs_background": "light"
     }
    }
   ],
   "source": [
    "img = cv2.imread('./start_deep/train_images/0/137021_1_42_76_76.pgm')\n",
    "plt.imshow(img)\n",
    "plt.show()"
   ]
  },
  {
   "cell_type": "markdown",
   "metadata": {},
   "source": [
    "## Building Model"
   ]
  },
  {
   "cell_type": "code",
   "execution_count": 13,
   "metadata": {},
   "outputs": [],
   "source": [
    "###############################################\n",
    "# Confusion Matrix \n",
    "# Input : output (of model), labels\n",
    "# Output: average error\n",
    "###############################################\n",
    "class ConfusionMatrixMeter(object):     #same as for repSet\n",
    "    \"\"\"Computes and stores the average and current value\"\"\"\n",
    "    def __init__(self):\n",
    "        self.reset()\n",
    "\n",
    "    def reset(self):\n",
    "        self.true_pos = 0\n",
    "        self.true_neg = 0\n",
    "        self.false_pos = 0\n",
    "        self.false_neg = 0\n",
    "\n",
    "    def update(self, output, target):\n",
    "        for i in range(len(output)):\n",
    "            if output[i][0]>output[i][1]: # predicted negative (no face)\n",
    "                if target[i]==0:\n",
    "                    self.true_neg +=1\n",
    "                else:\n",
    "                    self.false_neg +=1\n",
    "            else:                         # predicted positive (face)\n",
    "                if target[i]==1:\n",
    "                    self.true_pos +=1\n",
    "                else:\n",
    "                    self.false_pos +=1\n",
    "\n"
   ]
  },
  {
   "cell_type": "code",
   "execution_count": 14,
   "metadata": {},
   "outputs": [],
   "source": [
    "###############################################\n",
    "# Description: error function to evaluate distance between prediction and label \n",
    "# Input : output (of model), labels\n",
    "# Output: average error\n",
    "###############################################\n",
    "def error(output, labels):\n",
    "    #print (\"output\",output)\n",
    "    #print (\"labels\",labels)\n",
    "    \n",
    "    correct = 0\n",
    "    predicted = torch.max(output.data, 1)[1] \n",
    "    correct += (predicted == labels).sum()\n",
    "    return 1 - correct.item()/len(output.data)"
   ]
  },
  {
   "cell_type": "code",
   "execution_count": 15,
   "metadata": {},
   "outputs": [],
   "source": [
    "###############################################\n",
    "# Description: class used to keep count of the average error and loss during training\n",
    "# Input : \n",
    "# Output:\n",
    "###############################################\n",
    "class AverageMeter(object):     #same as for repSet\n",
    "    \"\"\"Computes and stores the average and current value\"\"\"\n",
    "    def __init__(self):\n",
    "        self.reset()\n",
    "\n",
    "    def reset(self):\n",
    "        self.val = 0\n",
    "        self.avg = 0\n",
    "        self.sum = 0\n",
    "        self.count = 0\n",
    "\n",
    "    def update(self, val, n=1):\n",
    "        self.val = val\n",
    "        self.sum += val * n\n",
    "        self.count += n\n",
    "        self.avg = self.sum / self.count"
   ]
  },
  {
   "cell_type": "code",
   "execution_count": 16,
   "metadata": {},
   "outputs": [],
   "source": [
    "import torch\n",
    "import torch.nn as nn\n",
    "import torch.nn.functional as F\n",
    "from sklearn.metrics import log_loss"
   ]
  },
  {
   "cell_type": "code",
   "execution_count": 17,
   "metadata": {},
   "outputs": [],
   "source": [
    "device = torch.device('cuda' if torch.cuda.is_available() else 'cpu')\n",
    "\n",
    "# Model 1: default\n",
    "class ConvNet(nn.Module):\n",
    "    \n",
    "    def __init__(self):\n",
    "        super(ConvNet, self).__init__()\n",
    "        self.layer1 = nn.Sequential(\n",
    "            nn.Conv2d(1, 32, kernel_size=5, stride=1, padding=2),\n",
    "            nn.ReLU(),\n",
    "            nn.MaxPool2d(kernel_size=2, stride=2))\n",
    "        self.layer2 = nn.Sequential(\n",
    "            nn.Conv2d(32, 64, kernel_size=5, stride=1, padding=2),\n",
    "            nn.ReLU(),\n",
    "            nn.MaxPool2d(kernel_size=2, stride=2))\n",
    "        self.drop_out = nn.Dropout()\n",
    "        self.fc1 = nn.Linear(9 * 9 * 64, 100)\n",
    "        self.fc2 = nn.Linear(100, 2)\n",
    "        #self.sigmoid = nn.Sigmoid()\n",
    "    \n",
    "    def forward(self, X): # batch of n images\n",
    "        #print (\"input\",X.size())\n",
    "        out = self.layer1(X)\n",
    "        #print (\"after layer1\",out.size())\n",
    "        out = self.layer2(out)\n",
    "        #print (\"after layer2\",out.size())\n",
    "        out = out.reshape(out.size(0), -1)\n",
    "        #print (\"after reshape\",out.size())\n",
    "        out = self.drop_out(out)\n",
    "        #print (\"after drop\",out.size())\n",
    "        out = self.fc1(out)\n",
    "        #print (\"after fc1\",out.size())\n",
    "        out = self.fc2(out)\n",
    "        #print (\"after fc2\",out.size())\n",
    "        #out = F.log_softmax(out, dim=1)\n",
    "        #print (\"after log softmax\",out.size())\n",
    "        return out "
   ]
  },
  {
   "cell_type": "raw",
   "metadata": {},
   "source": [
    "input torch.Size([32, 1, 36, 36])\n",
    "after layer1 torch.Size([32, 32, 18, 18])\n",
    "after layer2 torch.Size([32, 64, 9, 9])\n",
    "after reshape torch.Size([32, 5184])\n",
    "after drop torch.Size([32, 5184])\n",
    "after fc1 torch.Size([32, 1000])\n",
    "after fc2 torch.Size([32, 2])\n",
    "after log softmax torch.Size([32, 2])"
   ]
  },
  {
   "cell_type": "markdown",
   "metadata": {},
   "source": [
    "## Evaluating Model"
   ]
  },
  {
   "cell_type": "code",
   "execution_count": 40,
   "metadata": {},
   "outputs": [],
   "source": [
    "from tqdm import tqdm"
   ]
  },
  {
   "cell_type": "code",
   "execution_count": 44,
   "metadata": {},
   "outputs": [],
   "source": [
    "# Hyperparameters\n",
    "epochs = 10\n",
    "lr = 0.001\n",
    "cv_folds = 1"
   ]
  },
  {
   "cell_type": "code",
   "execution_count": 45,
   "metadata": {},
   "outputs": [
    {
     "name": "stderr",
     "output_type": "stream",
     "text": [
      "  0%|          | 0/2293 [00:00<?, ?it/s]"
     ]
    },
    {
     "name": "stdout",
     "output_type": "stream",
     "text": [
      "n_train_batches 2293\n",
      "n_valid_batches 574\n",
      "n_test_batches 239\n"
     ]
    },
    {
     "name": "stderr",
     "output_type": "stream",
     "text": [
      "100%|█████████▉| 2292/2293 [04:55<00:00,  7.77it/s]\n",
      "100%|█████████▉| 573/574 [00:24<00:00, 22.94it/s]\n",
      "  0%|          | 0/2293 [00:00<?, ?it/s]"
     ]
    },
    {
     "name": "stdout",
     "output_type": "stream",
     "text": [
      "Cross-val iter: 01 epoch: 001 train_loss= 0.07666 train_err= 0.02926 val_loss= 0.02676 val_err= 0.00960 epoch_time= 320.07272\n"
     ]
    },
    {
     "name": "stderr",
     "output_type": "stream",
     "text": [
      "100%|█████████▉| 2292/2293 [05:09<00:00,  7.41it/s]\n",
      "100%|█████████▉| 573/574 [00:31<00:00, 18.25it/s]\n",
      "  0%|          | 0/2293 [00:00<?, ?it/s]"
     ]
    },
    {
     "name": "stdout",
     "output_type": "stream",
     "text": [
      "Cross-val iter: 01 epoch: 002 train_loss= 0.03167 train_err= 0.01070 val_loss= 0.01292 val_err= 0.00404 epoch_time= 340.86601\n"
     ]
    },
    {
     "name": "stderr",
     "output_type": "stream",
     "text": [
      "100%|█████████▉| 2292/2293 [05:09<00:00,  7.41it/s]\n",
      "100%|█████████▉| 573/574 [00:22<00:00, 25.83it/s]\n",
      "  0%|          | 0/2293 [00:00<?, ?it/s]"
     ]
    },
    {
     "name": "stdout",
     "output_type": "stream",
     "text": [
      "Cross-val iter: 01 epoch: 003 train_loss= 0.02307 train_err= 0.00780 val_loss= 0.00891 val_err= 0.00305 epoch_time= 331.54824\n"
     ]
    },
    {
     "name": "stderr",
     "output_type": "stream",
     "text": [
      "100%|█████████▉| 2292/2293 [04:52<00:00,  7.84it/s]\n",
      "100%|█████████▉| 573/574 [00:19<00:00, 29.25it/s]\n",
      "  0%|          | 0/2293 [00:00<?, ?it/s]"
     ]
    },
    {
     "name": "stdout",
     "output_type": "stream",
     "text": [
      "Cross-val iter: 01 epoch: 004 train_loss= 0.01778 train_err= 0.00577 val_loss= 0.00981 val_err= 0.00322 epoch_time= 311.76347\n"
     ]
    },
    {
     "name": "stderr",
     "output_type": "stream",
     "text": [
      "100%|█████████▉| 2292/2293 [04:51<00:00,  7.86it/s]\n",
      "100%|█████████▉| 573/574 [00:23<00:00, 24.68it/s]\n",
      "  0%|          | 0/2293 [00:00<?, ?it/s]"
     ]
    },
    {
     "name": "stdout",
     "output_type": "stream",
     "text": [
      "Cross-val iter: 01 epoch: 005 train_loss= 0.01559 train_err= 0.00476 val_loss= 0.00752 val_err= 0.00300 epoch_time= 314.82860\n"
     ]
    },
    {
     "name": "stderr",
     "output_type": "stream",
     "text": [
      "100%|█████████▉| 2292/2293 [04:50<00:00,  7.88it/s]\n",
      "100%|█████████▉| 573/574 [00:20<00:00, 28.37it/s]\n",
      "  0%|          | 0/2293 [00:00<?, ?it/s]"
     ]
    },
    {
     "name": "stdout",
     "output_type": "stream",
     "text": [
      "Cross-val iter: 01 epoch: 006 train_loss= 0.01237 train_err= 0.00408 val_loss= 0.00714 val_err= 0.00213 epoch_time= 311.00466\n"
     ]
    },
    {
     "name": "stderr",
     "output_type": "stream",
     "text": [
      "100%|█████████▉| 2292/2293 [04:25<00:00,  8.63it/s]\n",
      "100%|█████████▉| 573/574 [00:20<00:00, 28.03it/s]\n",
      "  0%|          | 0/2293 [00:00<?, ?it/s]"
     ]
    },
    {
     "name": "stdout",
     "output_type": "stream",
     "text": [
      "Cross-val iter: 01 epoch: 007 train_loss= 0.01110 train_err= 0.00383 val_loss= 0.00629 val_err= 0.00224 epoch_time= 285.98250\n"
     ]
    },
    {
     "name": "stderr",
     "output_type": "stream",
     "text": [
      "100%|█████████▉| 2292/2293 [05:20<00:00,  7.16it/s] \n",
      "100%|█████████▉| 573/574 [00:20<00:00, 28.09it/s]\n",
      "  0%|          | 0/2293 [00:00<?, ?it/s]"
     ]
    },
    {
     "name": "stdout",
     "output_type": "stream",
     "text": [
      "Cross-val iter: 01 epoch: 008 train_loss= 0.01116 train_err= 0.00372 val_loss= 0.00423 val_err= 0.00142 epoch_time= 323.99118\n"
     ]
    },
    {
     "name": "stderr",
     "output_type": "stream",
     "text": [
      "100%|█████████▉| 2292/2293 [04:35<00:00,  8.32it/s]\n",
      "100%|█████████▉| 573/574 [00:19<00:00, 29.57it/s]\n",
      "  0%|          | 0/2293 [00:00<?, ?it/s]"
     ]
    },
    {
     "name": "stdout",
     "output_type": "stream",
     "text": [
      "Cross-val iter: 01 epoch: 009 train_loss= 0.00931 train_err= 0.00292 val_loss= 0.00921 val_err= 0.00305 epoch_time= 294.76108\n"
     ]
    },
    {
     "name": "stderr",
     "output_type": "stream",
     "text": [
      "100%|█████████▉| 2292/2293 [04:17<00:00,  8.92it/s]\n",
      "100%|█████████▉| 573/574 [00:18<00:00, 30.52it/s]\n",
      "  0%|          | 0/239 [00:00<?, ?it/s]"
     ]
    },
    {
     "name": "stdout",
     "output_type": "stream",
     "text": [
      "Cross-val iter: 01 epoch: 010 train_loss= 0.00965 train_err= 0.00305 val_loss= 0.00648 val_err= 0.00202 epoch_time= 275.84685\n"
     ]
    },
    {
     "name": "stderr",
     "output_type": "stream",
     "text": [
      "100%|█████████▉| 238/239 [00:08<00:00, 28.79it/s]"
     ]
    },
    {
     "name": "stdout",
     "output_type": "stream",
     "text": [
      "Cross-val iter: 01 test_loss= 0.17525 test_err= 0.03335 cv time= 3118.94241\n"
     ]
    },
    {
     "name": "stderr",
     "output_type": "stream",
     "text": [
      "\n"
     ]
    }
   ],
   "source": [
    "for it in range(cv_folds):\n",
    "    \n",
    "    ### Set X and y tensors for training/valid/test set ###\n",
    "    n_train_batches =len(train_loader)\n",
    "    n_valid_batches = len(valid_loader)\n",
    "    n_test_batches = len(test_loader)\n",
    "    #n_test_batches = 250\n",
    "    #n_train_batches =200\n",
    "    #n_valid_batches = 50\n",
    "    print(\"n_train_batches\",n_train_batches)\n",
    "    print(\"n_valid_batches\",n_valid_batches)\n",
    "    print(\"n_test_batches\",n_test_batches)\n",
    "    ############################################ - TRAIN, TEST FUNCTIONS\n",
    "    def train(X, y):\n",
    "        optimizer.zero_grad()\n",
    "        output = model(X)\n",
    "        loss_train = F.cross_entropy(output, y)\n",
    "        #print (output)\n",
    "        #print (y)\n",
    "        loss_train.backward()\n",
    "        optimizer.step()\n",
    "        return output, loss_train\n",
    "    \n",
    "    def test(X, y):\n",
    "        output = model(X)\n",
    "        loss_test = F.cross_entropy(output, y)\n",
    "        return output, loss_test \n",
    "\n",
    "    #Initialize Model\n",
    "    model = ConvNet().to(device)\n",
    "    optimizer = torch.optim.Adam(model.parameters(), lr=lr)\n",
    "    model.train()\n",
    "    \n",
    "    start = time.perf_counter()       #time indicator \n",
    "    for epoch in range(epochs):\n",
    "        \n",
    "        model.train()\n",
    "        startEpoch = time.perf_counter()    #time indicator\n",
    "        train_loss = AverageMeter()\n",
    "        train_err = AverageMeter()\n",
    "        i =0\n",
    "        for data, target in tqdm(train_loader):\n",
    "            i+=1\n",
    "            if i == n_train_batches:\n",
    "                break\n",
    "            output, loss = train(data, target)\n",
    "            train_loss.update(loss.item(), output.size(0))\n",
    "            train_err.update(error(output, target), output.size(0))\n",
    "            \n",
    "        model.eval()\n",
    "        test_loss = AverageMeter()\n",
    "        test_err = AverageMeter()\n",
    "        i = 0\n",
    "        for data, target in tqdm(valid_loader):\n",
    "            i+=1\n",
    "            if i == n_valid_batches:\n",
    "                break\n",
    "            output, loss = test(data, target)\n",
    "            test_loss.update(loss.item(), output.size(0))\n",
    "            test_err.update(error(output, target), output.size(0)) \n",
    "        print(\"Cross-val iter:\", '%02d' % (it+1), \"epoch:\", '%03d' % (epoch+1), \"train_loss=\", \"{:.5f}\".format(train_loss.avg),\n",
    "        \"train_err=\", \"{:.5f}\".format(train_err.avg), \"val_loss=\", \"{:.5f}\".format(test_loss.avg),\n",
    "        \"val_err=\", \"{:.5f}\".format(test_err.avg), \"epoch_time=\", \"{:.5f}\".format(time.perf_counter()-startEpoch))\n",
    "    \n",
    "    model.eval()\n",
    "    test_loss = AverageMeter()\n",
    "    test_err = AverageMeter()\n",
    "    i=0\n",
    "    cmm = ConfusionMatrixMeter()\n",
    "    for data, target in tqdm(test_loader):\n",
    "        i+=1\n",
    "        if i == n_test_batches:\n",
    "            break\n",
    "        output, loss = test(data, target)\n",
    "        cmm.update(np.array(output.detach()), np.array(target))\n",
    "        test_loss.update(loss.item(), output.size(0))\n",
    "        test_err.update(error(output.data, target.data), output.size(0)) \n",
    "    print(\"Cross-val iter:\", '%02d' % (it+1),\"test_loss=\", \"{:.5f}\".format(test_loss.avg),\n",
    "        \"test_err=\", \"{:.5f}\".format(test_err.avg), \"cv time=\", \"{:.5f}\".format(time.perf_counter() -start))   "
   ]
  },
  {
   "cell_type": "code",
   "execution_count": 46,
   "metadata": {},
   "outputs": [
    {
     "data": {
      "text/html": [
       "<div>\n",
       "<style scoped>\n",
       "    .dataframe tbody tr th:only-of-type {\n",
       "        vertical-align: middle;\n",
       "    }\n",
       "\n",
       "    .dataframe tbody tr th {\n",
       "        vertical-align: top;\n",
       "    }\n",
       "\n",
       "    .dataframe thead th {\n",
       "        text-align: right;\n",
       "    }\n",
       "</style>\n",
       "<table border=\"1\" class=\"dataframe\">\n",
       "  <thead>\n",
       "    <tr style=\"text-align: right;\">\n",
       "      <th></th>\n",
       "      <th>Face</th>\n",
       "      <th>No Face</th>\n",
       "      <th>Total</th>\n",
       "    </tr>\n",
       "  </thead>\n",
       "  <tbody>\n",
       "    <tr>\n",
       "      <th>Face Detected</th>\n",
       "      <td>564</td>\n",
       "      <td>21</td>\n",
       "      <td>585</td>\n",
       "    </tr>\n",
       "    <tr>\n",
       "      <th>No Face Detected</th>\n",
       "      <td>233</td>\n",
       "      <td>6798</td>\n",
       "      <td>7031</td>\n",
       "    </tr>\n",
       "    <tr>\n",
       "      <th>Total</th>\n",
       "      <td>797</td>\n",
       "      <td>6819</td>\n",
       "      <td>7616</td>\n",
       "    </tr>\n",
       "  </tbody>\n",
       "</table>\n",
       "</div>"
      ],
      "text/plain": [
       "                  Face  No Face  Total\n",
       "Face Detected      564       21    585\n",
       "No Face Detected   233     6798   7031\n",
       "Total              797     6819   7616"
      ]
     },
     "execution_count": 46,
     "metadata": {},
     "output_type": "execute_result"
    }
   ],
   "source": [
    "data = [[cmm.true_pos,cmm.false_pos,cmm.true_pos+cmm.false_pos],\n",
    "        [cmm.false_neg,cmm.true_neg, cmm.false_neg+cmm.true_neg],\n",
    "        [cmm.true_pos+cmm.false_neg, cmm.false_pos+cmm.true_neg,cmm.true_pos+cmm.false_neg+cmm.false_pos+cmm.true_neg]]\n",
    "pd.DataFrame(data=data, index=[\"Face Detected\", \"No Face Detected\",\"Total\"], columns=[\"Face\",\"No Face\", \"Total\"], dtype=None, copy=False)"
   ]
  },
  {
   "cell_type": "code",
   "execution_count": 47,
   "metadata": {},
   "outputs": [
    {
     "name": "stdout",
     "output_type": "stream",
     "text": [
      "Precision Score 0.9641025641025641\n"
     ]
    }
   ],
   "source": [
    "#Precision Score - accuracy in predicting if a face is \n",
    "precison = cmm.true_pos/(cmm.true_pos+cmm.false_pos)\n",
    "print (\"Precision Score\",precison)"
   ]
  },
  {
   "cell_type": "code",
   "execution_count": 48,
   "metadata": {},
   "outputs": [
    {
     "name": "stdout",
     "output_type": "stream",
     "text": [
      "Recall Score 0.7076537013801757\n"
     ]
    }
   ],
   "source": [
    "# Recall Score\n",
    "recall = cmm.true_pos/(cmm.true_pos+cmm.false_neg)\n",
    "print (\"Recall Score\",recall)"
   ]
  },
  {
   "cell_type": "code",
   "execution_count": 49,
   "metadata": {},
   "outputs": [
    {
     "name": "stdout",
     "output_type": "stream",
     "text": [
      "F1 Score 0.8162083936324168\n"
     ]
    }
   ],
   "source": [
    "# F1 Score - The harmonic mean of precision and recall\n",
    "f1_score = 2*(precison*recall)/(precison+recall)\n",
    "print (\"F1 Score\",f1_score)"
   ]
  },
  {
   "cell_type": "markdown",
   "metadata": {},
   "source": [
    "# Saving Models"
   ]
  },
  {
   "cell_type": "code",
   "execution_count": 51,
   "metadata": {},
   "outputs": [],
   "source": [
    "param_file_name = \"97%acc_10epoch\"\n",
    "PATH = \"./saved_models/\"\n",
    "torch.save(model.state_dict(),PATH +\"weights_\"+ param_file_name) # save only the parameters of the model\n",
    "#torch.save(model, PATH +\"model_\"+ param_file_name)           # save the whole model"
   ]
  },
  {
   "cell_type": "code",
   "execution_count": 53,
   "metadata": {},
   "outputs": [
    {
     "data": {
      "text/plain": [
       "<All keys matched successfully>"
      ]
     },
     "execution_count": 53,
     "metadata": {},
     "output_type": "execute_result"
    }
   ],
   "source": [
    "param_file_name = \"97%acc_10epoch\"\n",
    "PATH = \"./saved_models/\"\n",
    "\n",
    "# load model parameters file\n",
    "device = torch.device('cuda' if torch.cuda.is_available() else 'cpu')\n",
    "model = ConvNet().to(device)\n",
    "model.load_state_dict(torch.load(PATH+\"weights_\"+param_file_name))\n",
    "\n",
    "#load conmplet model\n",
    "#model = torch.load(PATH +\"model_\"+ param_file_name)"
   ]
  },
  {
   "cell_type": "code",
   "execution_count": null,
   "metadata": {},
   "outputs": [],
   "source": []
  }
 ],
 "metadata": {
  "kernelspec": {
   "display_name": "Python 3",
   "language": "python",
   "name": "python3"
  },
  "language_info": {
   "codemirror_mode": {
    "name": "ipython",
    "version": 3
   },
   "file_extension": ".py",
   "mimetype": "text/x-python",
   "name": "python",
   "nbconvert_exporter": "python",
   "pygments_lexer": "ipython3",
   "version": "3.7.4-final"
  }
 },
 "nbformat": 4,
 "nbformat_minor": 4
}